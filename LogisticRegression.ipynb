{
 "cells": [
  {
   "cell_type": "markdown",
   "id": "ae1521f4",
   "metadata": {},
   "source": [
    "\n",
   ]
  },
  {
   "cell_type": "markdown",
   "id": "13d6dbbc",
   "metadata": {},
   "source": [
    "#    __Assignment on Logistic Regression Classifier__"
   ]
  },
  {
   "cell_type": "code",
   "execution_count": 1,
   "id": "7e69bd83",
   "metadata": {},
   "outputs": [],
   "source": [
    "import pandas as pd"
   ]
  },
  {
   "cell_type": "markdown",
   "id": "6fe2e527",
   "metadata": {},
   "source": [
    "#### 1.Store the content of .csv file in a dataframe."
   ]
  },
  {
   "cell_type": "code",
   "execution_count": 2,
   "id": "ae1b1518",
   "metadata": {},
   "outputs": [],
   "source": [
    "df = pd.read_csv(\"diabetes.csv\")"
   ]
  },
  {
   "cell_type": "markdown",
   "id": "69bac148",
   "metadata": {},
   "source": [
    "#### 2.Perform following EDA (Exploratory Data Analysis)operation on the data frame-"
   ]
  },
  {
   "cell_type": "code",
   "execution_count": 3,
   "id": "42c22034",
   "metadata": {},
   "outputs": [
    {
     "data": {
      "text/html": [
       "<div>\n",
       "<style scoped>\n",
       "    .dataframe tbody tr th:only-of-type {\n",
       "        vertical-align: middle;\n",
       "    }\n",
       "\n",
       "    .dataframe tbody tr th {\n",
       "        vertical-align: top;\n",
       "    }\n",
       "\n",
       "    .dataframe thead th {\n",
       "        text-align: right;\n",
       "    }\n",
       "</style>\n",
       "<table border=\"1\" class=\"dataframe\">\n",
       "  <thead>\n",
       "    <tr style=\"text-align: right;\">\n",
       "      <th></th>\n",
       "      <th>Pregnancies</th>\n",
       "      <th>Glucose</th>\n",
       "      <th>BloodPressure</th>\n",
       "      <th>SkinThickness</th>\n",
       "      <th>Insulin</th>\n",
       "      <th>BMI</th>\n",
       "      <th>DiabetesPedigreeFunction</th>\n",
       "      <th>Age</th>\n",
       "      <th>Outcome</th>\n",
       "    </tr>\n",
       "  </thead>\n",
       "  <tbody>\n",
       "    <tr>\n",
       "      <th>0</th>\n",
       "      <td>6</td>\n",
       "      <td>148</td>\n",
       "      <td>72</td>\n",
       "      <td>35</td>\n",
       "      <td>0</td>\n",
       "      <td>33.6</td>\n",
       "      <td>0.627</td>\n",
       "      <td>50</td>\n",
       "      <td>1</td>\n",
       "    </tr>\n",
       "    <tr>\n",
       "      <th>1</th>\n",
       "      <td>1</td>\n",
       "      <td>85</td>\n",
       "      <td>66</td>\n",
       "      <td>29</td>\n",
       "      <td>0</td>\n",
       "      <td>26.6</td>\n",
       "      <td>0.351</td>\n",
       "      <td>31</td>\n",
       "      <td>0</td>\n",
       "    </tr>\n",
       "    <tr>\n",
       "      <th>2</th>\n",
       "      <td>8</td>\n",
       "      <td>183</td>\n",
       "      <td>64</td>\n",
       "      <td>0</td>\n",
       "      <td>0</td>\n",
       "      <td>23.3</td>\n",
       "      <td>0.672</td>\n",
       "      <td>32</td>\n",
       "      <td>1</td>\n",
       "    </tr>\n",
       "    <tr>\n",
       "      <th>3</th>\n",
       "      <td>1</td>\n",
       "      <td>89</td>\n",
       "      <td>66</td>\n",
       "      <td>23</td>\n",
       "      <td>94</td>\n",
       "      <td>28.1</td>\n",
       "      <td>0.167</td>\n",
       "      <td>21</td>\n",
       "      <td>0</td>\n",
       "    </tr>\n",
       "    <tr>\n",
       "      <th>4</th>\n",
       "      <td>0</td>\n",
       "      <td>137</td>\n",
       "      <td>40</td>\n",
       "      <td>35</td>\n",
       "      <td>168</td>\n",
       "      <td>43.1</td>\n",
       "      <td>2.288</td>\n",
       "      <td>33</td>\n",
       "      <td>1</td>\n",
       "    </tr>\n",
       "    <tr>\n",
       "      <th>5</th>\n",
       "      <td>5</td>\n",
       "      <td>116</td>\n",
       "      <td>74</td>\n",
       "      <td>0</td>\n",
       "      <td>0</td>\n",
       "      <td>25.6</td>\n",
       "      <td>0.201</td>\n",
       "      <td>30</td>\n",
       "      <td>0</td>\n",
       "    </tr>\n",
       "    <tr>\n",
       "      <th>6</th>\n",
       "      <td>3</td>\n",
       "      <td>78</td>\n",
       "      <td>50</td>\n",
       "      <td>32</td>\n",
       "      <td>88</td>\n",
       "      <td>31.0</td>\n",
       "      <td>0.248</td>\n",
       "      <td>26</td>\n",
       "      <td>1</td>\n",
       "    </tr>\n",
       "    <tr>\n",
       "      <th>7</th>\n",
       "      <td>10</td>\n",
       "      <td>115</td>\n",
       "      <td>0</td>\n",
       "      <td>0</td>\n",
       "      <td>0</td>\n",
       "      <td>35.3</td>\n",
       "      <td>0.134</td>\n",
       "      <td>29</td>\n",
       "      <td>0</td>\n",
       "    </tr>\n",
       "    <tr>\n",
       "      <th>8</th>\n",
       "      <td>2</td>\n",
       "      <td>197</td>\n",
       "      <td>70</td>\n",
       "      <td>45</td>\n",
       "      <td>543</td>\n",
       "      <td>30.5</td>\n",
       "      <td>0.158</td>\n",
       "      <td>53</td>\n",
       "      <td>1</td>\n",
       "    </tr>\n",
       "    <tr>\n",
       "      <th>9</th>\n",
       "      <td>8</td>\n",
       "      <td>125</td>\n",
       "      <td>96</td>\n",
       "      <td>0</td>\n",
       "      <td>0</td>\n",
       "      <td>0.0</td>\n",
       "      <td>0.232</td>\n",
       "      <td>54</td>\n",
       "      <td>1</td>\n",
       "    </tr>\n",
       "    <tr>\n",
       "      <th>10</th>\n",
       "      <td>4</td>\n",
       "      <td>110</td>\n",
       "      <td>92</td>\n",
       "      <td>0</td>\n",
       "      <td>0</td>\n",
       "      <td>37.6</td>\n",
       "      <td>0.191</td>\n",
       "      <td>30</td>\n",
       "      <td>0</td>\n",
       "    </tr>\n",
       "  </tbody>\n",
       "</table>\n",
       "</div>"
      ],
      "text/plain": [
       "    Pregnancies  Glucose  BloodPressure  SkinThickness  Insulin   BMI  \\\n",
       "0             6      148             72             35        0  33.6   \n",
       "1             1       85             66             29        0  26.6   \n",
       "2             8      183             64              0        0  23.3   \n",
       "3             1       89             66             23       94  28.1   \n",
       "4             0      137             40             35      168  43.1   \n",
       "5             5      116             74              0        0  25.6   \n",
       "6             3       78             50             32       88  31.0   \n",
       "7            10      115              0              0        0  35.3   \n",
       "8             2      197             70             45      543  30.5   \n",
       "9             8      125             96              0        0   0.0   \n",
       "10            4      110             92              0        0  37.6   \n",
       "\n",
       "    DiabetesPedigreeFunction  Age  Outcome  \n",
       "0                      0.627   50        1  \n",
       "1                      0.351   31        0  \n",
       "2                      0.672   32        1  \n",
       "3                      0.167   21        0  \n",
       "4                      2.288   33        1  \n",
       "5                      0.201   30        0  \n",
       "6                      0.248   26        1  \n",
       "7                      0.134   29        0  \n",
       "8                      0.158   53        1  \n",
       "9                      0.232   54        1  \n",
       "10                     0.191   30        0  "
      ]
     },
     "execution_count": 3,
     "metadata": {},
     "output_type": "execute_result"
    }
   ],
   "source": [
    "df.head(11)"
   ]
  },
  {
   "cell_type": "code",
   "execution_count": 4,
   "id": "2622fb69",
   "metadata": {},
   "outputs": [
    {
     "data": {
      "text/html": [
       "<div>\n",
       "<style scoped>\n",
       "    .dataframe tbody tr th:only-of-type {\n",
       "        vertical-align: middle;\n",
       "    }\n",
       "\n",
       "    .dataframe tbody tr th {\n",
       "        vertical-align: top;\n",
       "    }\n",
       "\n",
       "    .dataframe thead th {\n",
       "        text-align: right;\n",
       "    }\n",
       "</style>\n",
       "<table border=\"1\" class=\"dataframe\">\n",
       "  <thead>\n",
       "    <tr style=\"text-align: right;\">\n",
       "      <th></th>\n",
       "      <th>Pregnancies</th>\n",
       "      <th>Glucose</th>\n",
       "      <th>BloodPressure</th>\n",
       "      <th>SkinThickness</th>\n",
       "      <th>Insulin</th>\n",
       "      <th>BMI</th>\n",
       "      <th>DiabetesPedigreeFunction</th>\n",
       "      <th>Age</th>\n",
       "      <th>Outcome</th>\n",
       "    </tr>\n",
       "  </thead>\n",
       "  <tbody>\n",
       "    <tr>\n",
       "      <th>757</th>\n",
       "      <td>0</td>\n",
       "      <td>123</td>\n",
       "      <td>72</td>\n",
       "      <td>0</td>\n",
       "      <td>0</td>\n",
       "      <td>36.3</td>\n",
       "      <td>0.258</td>\n",
       "      <td>52</td>\n",
       "      <td>1</td>\n",
       "    </tr>\n",
       "    <tr>\n",
       "      <th>758</th>\n",
       "      <td>1</td>\n",
       "      <td>106</td>\n",
       "      <td>76</td>\n",
       "      <td>0</td>\n",
       "      <td>0</td>\n",
       "      <td>37.5</td>\n",
       "      <td>0.197</td>\n",
       "      <td>26</td>\n",
       "      <td>0</td>\n",
       "    </tr>\n",
       "    <tr>\n",
       "      <th>759</th>\n",
       "      <td>6</td>\n",
       "      <td>190</td>\n",
       "      <td>92</td>\n",
       "      <td>0</td>\n",
       "      <td>0</td>\n",
       "      <td>35.5</td>\n",
       "      <td>0.278</td>\n",
       "      <td>66</td>\n",
       "      <td>1</td>\n",
       "    </tr>\n",
       "    <tr>\n",
       "      <th>760</th>\n",
       "      <td>2</td>\n",
       "      <td>88</td>\n",
       "      <td>58</td>\n",
       "      <td>26</td>\n",
       "      <td>16</td>\n",
       "      <td>28.4</td>\n",
       "      <td>0.766</td>\n",
       "      <td>22</td>\n",
       "      <td>0</td>\n",
       "    </tr>\n",
       "    <tr>\n",
       "      <th>761</th>\n",
       "      <td>9</td>\n",
       "      <td>170</td>\n",
       "      <td>74</td>\n",
       "      <td>31</td>\n",
       "      <td>0</td>\n",
       "      <td>44.0</td>\n",
       "      <td>0.403</td>\n",
       "      <td>43</td>\n",
       "      <td>1</td>\n",
       "    </tr>\n",
       "    <tr>\n",
       "      <th>762</th>\n",
       "      <td>9</td>\n",
       "      <td>89</td>\n",
       "      <td>62</td>\n",
       "      <td>0</td>\n",
       "      <td>0</td>\n",
       "      <td>22.5</td>\n",
       "      <td>0.142</td>\n",
       "      <td>33</td>\n",
       "      <td>0</td>\n",
       "    </tr>\n",
       "    <tr>\n",
       "      <th>763</th>\n",
       "      <td>10</td>\n",
       "      <td>101</td>\n",
       "      <td>76</td>\n",
       "      <td>48</td>\n",
       "      <td>180</td>\n",
       "      <td>32.9</td>\n",
       "      <td>0.171</td>\n",
       "      <td>63</td>\n",
       "      <td>0</td>\n",
       "    </tr>\n",
       "    <tr>\n",
       "      <th>764</th>\n",
       "      <td>2</td>\n",
       "      <td>122</td>\n",
       "      <td>70</td>\n",
       "      <td>27</td>\n",
       "      <td>0</td>\n",
       "      <td>36.8</td>\n",
       "      <td>0.340</td>\n",
       "      <td>27</td>\n",
       "      <td>0</td>\n",
       "    </tr>\n",
       "    <tr>\n",
       "      <th>765</th>\n",
       "      <td>5</td>\n",
       "      <td>121</td>\n",
       "      <td>72</td>\n",
       "      <td>23</td>\n",
       "      <td>112</td>\n",
       "      <td>26.2</td>\n",
       "      <td>0.245</td>\n",
       "      <td>30</td>\n",
       "      <td>0</td>\n",
       "    </tr>\n",
       "    <tr>\n",
       "      <th>766</th>\n",
       "      <td>1</td>\n",
       "      <td>126</td>\n",
       "      <td>60</td>\n",
       "      <td>0</td>\n",
       "      <td>0</td>\n",
       "      <td>30.1</td>\n",
       "      <td>0.349</td>\n",
       "      <td>47</td>\n",
       "      <td>1</td>\n",
       "    </tr>\n",
       "    <tr>\n",
       "      <th>767</th>\n",
       "      <td>1</td>\n",
       "      <td>93</td>\n",
       "      <td>70</td>\n",
       "      <td>31</td>\n",
       "      <td>0</td>\n",
       "      <td>30.4</td>\n",
       "      <td>0.315</td>\n",
       "      <td>23</td>\n",
       "      <td>0</td>\n",
       "    </tr>\n",
       "  </tbody>\n",
       "</table>\n",
       "</div>"
      ],
      "text/plain": [
       "     Pregnancies  Glucose  BloodPressure  SkinThickness  Insulin   BMI  \\\n",
       "757            0      123             72              0        0  36.3   \n",
       "758            1      106             76              0        0  37.5   \n",
       "759            6      190             92              0        0  35.5   \n",
       "760            2       88             58             26       16  28.4   \n",
       "761            9      170             74             31        0  44.0   \n",
       "762            9       89             62              0        0  22.5   \n",
       "763           10      101             76             48      180  32.9   \n",
       "764            2      122             70             27        0  36.8   \n",
       "765            5      121             72             23      112  26.2   \n",
       "766            1      126             60              0        0  30.1   \n",
       "767            1       93             70             31        0  30.4   \n",
       "\n",
       "     DiabetesPedigreeFunction  Age  Outcome  \n",
       "757                     0.258   52        1  \n",
       "758                     0.197   26        0  \n",
       "759                     0.278   66        1  \n",
       "760                     0.766   22        0  \n",
       "761                     0.403   43        1  \n",
       "762                     0.142   33        0  \n",
       "763                     0.171   63        0  \n",
       "764                     0.340   27        0  \n",
       "765                     0.245   30        0  \n",
       "766                     0.349   47        1  \n",
       "767                     0.315   23        0  "
      ]
     },
     "execution_count": 4,
     "metadata": {},
     "output_type": "execute_result"
    }
   ],
   "source": [
    "df.tail(11)"
   ]
  },
  {
   "cell_type": "code",
   "execution_count": 5,
   "id": "a06a7ea1",
   "metadata": {},
   "outputs": [
    {
     "name": "stdout",
     "output_type": "stream",
     "text": [
      "\n",
      "Column Name\t\tNon-Null Values\tData-Type\n",
      "\n",
      "Pregnancies                    657 \tData Type: int64\n",
      "Glucose                        763 \tData Type: int64\n",
      "BloodPressure                  733 \tData Type: int64\n",
      "SkinThickness                  541 \tData Type: int64\n",
      "Insulin                        394 \tData Type: int64\n",
      "BMI                            757 \tData Type: float64\n",
      "DiabetesPedigreeFunction       768 \tData Type: float64\n",
      "Age                            768 \tData Type: int64\n",
      "Outcome                        268 \tData Type: int64\n"
     ]
    }
   ],
   "source": [
    "print(\"\\nColumn Name\\t\\tNon-Null Values\\tData-Type\\n\")\n",
    "for column in df.columns:\n",
    "    print(column.ljust(30), (df[column] != 0).sum(), \"\\tData Type:\", df[column].dtype)"
   ]
  },
  {
   "cell_type": "code",
   "execution_count": 6,
   "id": "4ae5cbd7",
   "metadata": {},
   "outputs": [
    {
     "data": {
      "text/plain": [
       "(768, 9)"
      ]
     },
     "execution_count": 6,
     "metadata": {},
     "output_type": "execute_result"
    }
   ],
   "source": [
    "df.shape"
   ]
  },
  {
   "cell_type": "code",
   "execution_count": 7,
   "id": "9c0ba506",
   "metadata": {},
   "outputs": [
    {
     "data": {
      "text/html": [
       "<div>\n",
       "<style scoped>\n",
       "    .dataframe tbody tr th:only-of-type {\n",
       "        vertical-align: middle;\n",
       "    }\n",
       "\n",
       "    .dataframe tbody tr th {\n",
       "        vertical-align: top;\n",
       "    }\n",
       "\n",
       "    .dataframe thead th {\n",
       "        text-align: right;\n",
       "    }\n",
       "</style>\n",
       "<table border=\"1\" class=\"dataframe\">\n",
       "  <thead>\n",
       "    <tr style=\"text-align: right;\">\n",
       "      <th></th>\n",
       "      <th>Pregnancies</th>\n",
       "      <th>Glucose</th>\n",
       "      <th>BloodPressure</th>\n",
       "      <th>SkinThickness</th>\n",
       "      <th>Insulin</th>\n",
       "      <th>BMI</th>\n",
       "      <th>DiabetesPedigreeFunction</th>\n",
       "      <th>Age</th>\n",
       "      <th>Outcome</th>\n",
       "    </tr>\n",
       "  </thead>\n",
       "  <tbody>\n",
       "    <tr>\n",
       "      <th>count</th>\n",
       "      <td>768.000000</td>\n",
       "      <td>768.000000</td>\n",
       "      <td>768.000000</td>\n",
       "      <td>768.000000</td>\n",
       "      <td>768.000000</td>\n",
       "      <td>768.000000</td>\n",
       "      <td>768.000000</td>\n",
       "      <td>768.000000</td>\n",
       "      <td>768.000000</td>\n",
       "    </tr>\n",
       "    <tr>\n",
       "      <th>mean</th>\n",
       "      <td>3.845052</td>\n",
       "      <td>120.894531</td>\n",
       "      <td>69.105469</td>\n",
       "      <td>20.536458</td>\n",
       "      <td>79.799479</td>\n",
       "      <td>31.992578</td>\n",
       "      <td>0.471876</td>\n",
       "      <td>33.240885</td>\n",
       "      <td>0.348958</td>\n",
       "    </tr>\n",
       "    <tr>\n",
       "      <th>std</th>\n",
       "      <td>3.369578</td>\n",
       "      <td>31.972618</td>\n",
       "      <td>19.355807</td>\n",
       "      <td>15.952218</td>\n",
       "      <td>115.244002</td>\n",
       "      <td>7.884160</td>\n",
       "      <td>0.331329</td>\n",
       "      <td>11.760232</td>\n",
       "      <td>0.476951</td>\n",
       "    </tr>\n",
       "    <tr>\n",
       "      <th>min</th>\n",
       "      <td>0.000000</td>\n",
       "      <td>0.000000</td>\n",
       "      <td>0.000000</td>\n",
       "      <td>0.000000</td>\n",
       "      <td>0.000000</td>\n",
       "      <td>0.000000</td>\n",
       "      <td>0.078000</td>\n",
       "      <td>21.000000</td>\n",
       "      <td>0.000000</td>\n",
       "    </tr>\n",
       "    <tr>\n",
       "      <th>25%</th>\n",
       "      <td>1.000000</td>\n",
       "      <td>99.000000</td>\n",
       "      <td>62.000000</td>\n",
       "      <td>0.000000</td>\n",
       "      <td>0.000000</td>\n",
       "      <td>27.300000</td>\n",
       "      <td>0.243750</td>\n",
       "      <td>24.000000</td>\n",
       "      <td>0.000000</td>\n",
       "    </tr>\n",
       "    <tr>\n",
       "      <th>50%</th>\n",
       "      <td>3.000000</td>\n",
       "      <td>117.000000</td>\n",
       "      <td>72.000000</td>\n",
       "      <td>23.000000</td>\n",
       "      <td>30.500000</td>\n",
       "      <td>32.000000</td>\n",
       "      <td>0.372500</td>\n",
       "      <td>29.000000</td>\n",
       "      <td>0.000000</td>\n",
       "    </tr>\n",
       "    <tr>\n",
       "      <th>75%</th>\n",
       "      <td>6.000000</td>\n",
       "      <td>140.250000</td>\n",
       "      <td>80.000000</td>\n",
       "      <td>32.000000</td>\n",
       "      <td>127.250000</td>\n",
       "      <td>36.600000</td>\n",
       "      <td>0.626250</td>\n",
       "      <td>41.000000</td>\n",
       "      <td>1.000000</td>\n",
       "    </tr>\n",
       "    <tr>\n",
       "      <th>max</th>\n",
       "      <td>17.000000</td>\n",
       "      <td>199.000000</td>\n",
       "      <td>122.000000</td>\n",
       "      <td>99.000000</td>\n",
       "      <td>846.000000</td>\n",
       "      <td>67.100000</td>\n",
       "      <td>2.420000</td>\n",
       "      <td>81.000000</td>\n",
       "      <td>1.000000</td>\n",
       "    </tr>\n",
       "  </tbody>\n",
       "</table>\n",
       "</div>"
      ],
      "text/plain": [
       "       Pregnancies     Glucose  BloodPressure  SkinThickness     Insulin  \\\n",
       "count   768.000000  768.000000     768.000000     768.000000  768.000000   \n",
       "mean      3.845052  120.894531      69.105469      20.536458   79.799479   \n",
       "std       3.369578   31.972618      19.355807      15.952218  115.244002   \n",
       "min       0.000000    0.000000       0.000000       0.000000    0.000000   \n",
       "25%       1.000000   99.000000      62.000000       0.000000    0.000000   \n",
       "50%       3.000000  117.000000      72.000000      23.000000   30.500000   \n",
       "75%       6.000000  140.250000      80.000000      32.000000  127.250000   \n",
       "max      17.000000  199.000000     122.000000      99.000000  846.000000   \n",
       "\n",
       "              BMI  DiabetesPedigreeFunction         Age     Outcome  \n",
       "count  768.000000                768.000000  768.000000  768.000000  \n",
       "mean    31.992578                  0.471876   33.240885    0.348958  \n",
       "std      7.884160                  0.331329   11.760232    0.476951  \n",
       "min      0.000000                  0.078000   21.000000    0.000000  \n",
       "25%     27.300000                  0.243750   24.000000    0.000000  \n",
       "50%     32.000000                  0.372500   29.000000    0.000000  \n",
       "75%     36.600000                  0.626250   41.000000    1.000000  \n",
       "max     67.100000                  2.420000   81.000000    1.000000  "
      ]
     },
     "execution_count": 7,
     "metadata": {},
     "output_type": "execute_result"
    }
   ],
   "source": [
    "df.describe()"
   ]
  },
  {
   "cell_type": "code",
   "execution_count": 32,
   "id": "4283ecbf",
   "metadata": {},
   "outputs": [],
   "source": [
    "#df.min()\n",
    "#df.mean()\n",
    "#df.max()\n",
    "#df.count()"
   ]
  },
  {
   "cell_type": "code",
   "execution_count": 33,
   "id": "aba52c1c",
   "metadata": {},
   "outputs": [
    {
     "data": {
      "text/plain": [
       "array([[<Axes: title={'center': 'Pregnancies'}>,\n",
       "        <Axes: title={'center': 'Glucose'}>,\n",
       "        <Axes: title={'center': 'BloodPressure'}>],\n",
       "       [<Axes: title={'center': 'SkinThickness'}>,\n",
       "        <Axes: title={'center': 'Insulin'}>,\n",
       "        <Axes: title={'center': 'BMI'}>],\n",
       "       [<Axes: title={'center': 'DiabetesPedigreeFunction'}>,\n",
       "        <Axes: title={'center': 'Age'}>,\n",
       "        <Axes: title={'center': 'Outcome'}>]], dtype=object)"
      ]
     },
     "execution_count": 33,
     "metadata": {},
     "output_type": "execute_result"
    },
    {
     "data": {
      "image/png": "iVBORw0KGgoAAAANSUhEUgAAAjAAAAGxCAYAAAB89YyPAAAAOXRFWHRTb2Z0d2FyZQBNYXRwbG90bGliIHZlcnNpb24zLjcuMiwgaHR0cHM6Ly9tYXRwbG90bGliLm9yZy8pXeV/AAAACXBIWXMAAA9hAAAPYQGoP6dpAAB9RUlEQVR4nO3deVxU9f4/8NcIw7CIKCAMJCp5cUncrjulYCiGW2WmZZaWdjHRIvSaXu9VLC+oXZfStOwqmF6yxX0HU1FDDUlzK8tv7oIUuaAiDPD+/eFvTgzDzsAww+v5ePDQ+cxnzvl8PuczZ97ncz7nHJWICIiIiIgsSD1zF4CIiIioohjAEBERkcVhAENEREQWhwEMERERWRwGMERERGRxGMAQERGRxWEAQ0RERBaHAQwRERFZHAYwREREZHEYwJQgLi4OKpVK+bO1tUWTJk3w6quv4tq1a+YuXq3UvHlzjBkzxtzFoGp28uRJjB07Fi1atICDgwMcHBzg5+eHsLAwHDt2TMkXFRUFlUplxpKSpSm631WpVGjcuDGCgoKwbds2g7wqlQpRUVE1XsaLFy9CpVIhLi5OSdP3df2fnZ0dfH198dZbb+HWrVs1Xsa6wtbcBajtYmNj0bp1a2RnZ+PAgQOIiYlBUlISTp06BScnJ3MXr1bZuHEjGjRoYO5iUDX65JNPMHHiRLRq1QpvvfUW2rZtC5VKhR9//BGff/45unbtivPnz6NFixbmLipZMP1+V0SQnp6OpUuXYvDgwdiyZQsGDx5s7uKVaNeuXXBxcUFWVhZ27NiBDz74AN999x2Sk5MZzFcDBjBl8Pf3R5cuXQAAffr0QX5+Pt577z1s2rQJL730klH++/fvw9HRsaaLWSt06tTJ3EWgavTtt99iwoQJGDhwIL7++mvY2dkp7z355JMIDw/HV199BQcHBzOWkqxB4f0uADz11FNo1KgRPv/881odwHTu3Bnu7u4AgH79+iEzMxNr1qxBcnIyHn/88WI/Y2m/GSKCBw8e1IrvOU8hVVCPHj0AAJcuXcKYMWNQv359nDp1CiEhIXB2dkZwcDAAIDc3F3PmzEHr1q2h0WjQuHFjvPrqq/jtt98MlpeTk4PJkydDq9XC0dERvXv3RmpqqtHpGP3Q6r59+/DGG2/A3d0dbm5uGDp0KK5fv26wzC+++AIhISHw8vKCg4MD2rRpg2nTpuHevXsG+fTlP3/+PAYMGID69evDx8cHkydPRk5OjlE53333XbRp0wb29vZwc3NDnz59kJycrOQp7hTSnTt3MGXKFPj6+sLOzg6PPPIIIiIijMry1VdfoXv37nBxcYGjoyMeffRRvPbaa+XfMFTtoqOjYWNjg08++cQgeCns+eefh7e3d4nLKGnYv7i+c+3aNfztb3+Dj48P7Ozs4O3tjWHDhuHGjRtKnsuXL2PUqFHw8PCARqNBmzZtsGDBAhQUFBgsa/ny5ejQoQPq168PZ2dntG7dGv/4xz8M8qSnpyMsLAxNmjRRTgHMnj0beXl5ZbQMVTd7e3vY2dlBrVaXmu/06dN4+umn0ahRI9jb26Njx45YvXq1Ub7y9pvr169j+PDhcHZ2houLC0aMGIH09PRyl7vw7wUABAUFwd/fHwcOHEBAQAAcHR2V/Zyp9pUFBQWYM2cOWrVqBQcHBzRs2BDt27fHBx98oOQZM2YMmjdvblTe4k77qlQqTJw4ER9//DHatGkDjUajtOkvv/yCkSNHGrTjRx99VO72qSqOwFTQ+fPnAQCNGzfGzz//jNzcXAwZMgRhYWGYNm0a8vLyUFBQgKeffhoHDx7E1KlTERAQgEuXLmHWrFkICgrCsWPHlOj11VdfxRdffIGpU6fiySefxNmzZ/Hss8/izp07xa5/3LhxGDhwIOLj43HlyhX8/e9/x6hRo7B3714lzy+//IIBAwYgIiICTk5O+OmnnzBv3jx89913BvkAQKfTYciQIRg7diwmT56MAwcO4L333oOLiwtmzpwJAMjLy0NoaCgOHjyIiIgIPPnkk8jLy8ORI0dw+fJlBAQEFFvW+/fvIzAwEFevXsU//vEPtG/fHmfOnMHMmTNx6tQp7NmzByqVCocPH8aIESMwYsQIREVFwd7eHpcuXTIqK5lPfn4+9u3bhy5dusDLy6va13ft2jV07doVOp1O6TuZmZnYvXs3bt68CU9PT/z2228ICAhAbm4u3nvvPTRv3hzbtm3DlClT8H//939YtmwZAGDdunWYMGECJk2ahP/85z+oV68ezp8/j7NnzyrrS09PR7du3VCvXj3MnDkTLVq0wOHDhzFnzhxcvHgRsbGx1V5n+lN+fj7y8vIgIrhx4wbef/993Lt3DyNHjizxM+fOnUNAQAA8PDzw4Ycfws3NDWvXrsWYMWNw48YNTJ06FQDK3W+ys7PRt29fXL9+HTExMWjZsiW2b9+OESNGlLsehX8v9NLS0jBq1ChMnToV0dHRqFevnkn3lfPnz0dUVBT++c9/onfv3tDpdPjpp5+qNBdn06ZNOHjwIGbOnAmtVgsPDw+cPXsWAQEBaNq0KRYsWACtVovdu3fjzTffxO+//45Zs2ZVen3lJlSs2NhYASBHjhwRnU4nWVlZsm3bNmncuLE4OztLenq6jB49WgDIqlWrDD77+eefCwBZv369QXpKSooAkGXLlomIyJkzZwSAvPPOO8V+fvTo0UblmTBhgkHe+fPnCwBJS0srth4FBQWi0+kkKSlJAMgPP/ygvKcv/5dffmnwmQEDBkirVq2U15999pkAkE8//bTUNmvWrJlBmWNiYqRevXqSkpJikO/rr78WALJjxw4REfnPf/4jAOTWrVulLp/MJz09XQDICy+8YPReXl6e6HQ65a+goEBERGbNmiVFdzEAZNasWUbLKNp3XnvtNVGr1XL27NkSyzRt2jQBIEePHjVIf+ONN0SlUsm5c+dERGTixInSsGHDUusXFhYm9evXl0uXLhmk6/vmmTNnSv08mYZ+P1f0T6PRKPtNvaJ96YUXXhCNRiOXL182yBcaGiqOjo7K/qW8/Wb58uUCQDZv3myQ7/XXXxcAEhsbq6Tp+3p6errodDq5efOmrF27VhwcHMTHx0eys7NFRCQwMFAAyDfffGOwTFPuKwcNGiQdO3Ys8X2Rh/v+Zs2aGaWX9J11cXGRP/74wyC9f//+0qRJE7l9+7ZB+sSJE8Xe3t4of3XgKaQy9OjRA2q1Gs7Ozhg0aBC0Wi127twJT09PJc9zzz1n8Jlt27ahYcOGGDx4MPLy8pS/jh07QqvVYv/+/QCApKQkAMDw4cMNPj9s2DDY2hY/ODZkyBCD1+3btwfw5xAlAPz6668YOXIktFotbGxsoFarERgYCAD48ccfDT6vUqmMzim3b9/eYHk7d+6Evb19hU/pbNu2Df7+/ujYsaNBO/Tv3x8qlUpph65duwJ42A5ffvklr/KyMJ07d4ZarVb+FixYUOVl7ty5E3369EGbNm1KzLN371489thj6Natm0H6mDFjICLKUWm3bt1w69YtvPjii9i8eTN+//13o2Vt27YNffr0gbe3t0FfDQ0NBfDnd5VqxmeffYaUlBSkpKRg586dGD16NMLDw7F06dISP7N3714EBwfDx8fHIH3MmDG4f/8+Dh8+rOQrT7/Zt28fnJ2djfa5pY0CabVaqNVqNGrUCKNGjcJf//pX7Nq1C/b29kqeRo0a4cknnzT4nCn3ld26dcMPP/yACRMmYPfu3SWO5lfEk08+iUaNGimvHzx4gG+++QbPPvssHB0dDco8YMAAPHjwAEeOHKnyesvCU0hl+Oyzz9CmTRvY2trC09PTaPjc0dHR6MqbGzdu4NatWyXOE9DvQDMzMwHAIBgCAFtbW7i5uRX72aLpGo0GwMPhTgC4e/cuevXqBXt7e8yZMwctW7aEo6Mjrly5gqFDhyr5Cpe/8JdLv8wHDx4or3/77Td4e3ujXr2Kxbs3btzA+fPnSzxvrW+H3r17Y9OmTfjwww/xyiuvICcnB23btsWMGTPw4osvVmidVD3c3d3h4OBgENjqxcfH4/79+0hLSzPa2VfWb7/9hiZNmpSaJzMzs9jz+Po5OPrv18svv4y8vDx8+umneO6551BQUICuXbtizpw56NevH4CHfXXr1q1l9lWqGW3atDGaxHvp0iVMnToVo0aNQsOGDY0+k5mZWezpzaL9obz9JjMz02jfDDwMUkqyZ88euLi4QK1Wo0mTJsXux4sroyn3ldOnT4eTkxPWrl2Ljz/+GDY2NujduzfmzZtn0KYVUbTMmZmZyMvLw5IlS7BkyZJSy1ydGMCUoegXqajiLo3TT7DdtWtXsZ9xdnYG8GcwcuPGDTzyyCPK+3l5ecqXqKL27t2L69evY//+/cqoC4Aqnf9s3LgxDh06hIKCggoFMfofvVWrVpX4vt7TTz+Np59+Gjk5OThy5AhiYmIwcuRING/eHD179qx02ck0bGxs8OSTTyIhIQFpaWkGO7THHnsMwMP7Y5RFo9EYTRAHYNTfGzdujKtXr5a6LDc3N6SlpRml6ye1F+5fr776Kl599VXcu3cPBw4cwKxZszBo0CD8/PPPaNasGdzd3dG+fXv8+9//LnZdpU1MpprRvn177N69Gz///LPR6AlQ/v5QkXzfffedUb7SJvF26NDBoN8Vp6TfDFPtK21tbREZGYnIyEjcunULe/bswT/+8Q/0798fV65cUQ5ai/selhR0FC1zo0aNYGNjg5dffhnh4eHFfsbX17fENjAVBjDVYNCgQVi3bh3y8/PRvXv3EvP17t0bwMOrhv76178q6V9//XWlr3zQdzT9yIzeJ598UqnlAUBoaCg+//xzxMXFVeg00qBBgxAdHQ03N7dyd2aNRoPAwEA0bNgQu3fvxvHjxxnA1BLTp0/Hzp07MX78eHz99ddlXhFSnObNm+PkyZMGaXv37sXdu3cN0kJDQ7FmzRqcO3cOrVq1KnZZwcHBiImJwffff2/w/fnss8+gUqnQp08fo884OTkhNDQUubm5eOaZZ3DmzBk0a9YMgwYNwo4dO9CiRQuDoXKqPU6cOAHAcEJsYcHBwdi4cSOuX79uEHB+9tlncHR0VK4IKm+/6dOnD7788kts2bLFYGQxPj7e1FWrtn1lw4YNMWzYMFy7dg0RERG4ePEiHnvsMTRv3hwZGRm4ceOGMsqUm5uL3bt3l2vdjo6O6NOnD44fP4727duXeLahujGAqQYvvPAC/ve//2HAgAF466230K1bN6jValy9ehX79u3D008/jWeffRZt27bFiy++iAULFihHuGfOnMGCBQvg4uJS4VM2ABAQEIBGjRph/PjxmDVrFtRqNf73v//hhx9+qHR9XnzxRcTGxmL8+PE4d+4c+vTpg4KCAhw9ehRt2rTBCy+8UOznIiIisH79evTu3Rtvv/022rdvj4KCAly+fBkJCQmYPHkyunfvjpkzZ+Lq1asIDg5GkyZNcOvWLXzwwQcGc3fI/B5//HF89NFHmDRpEv7617/ib3/7G9q2bYt69eohLS0N69evB4BSb2b48ssv41//+hdmzpyJwMBAnD17FkuXLoWLi4tBvnfffRc7d+5E79698Y9//APt2rXDrVu3sGvXLkRGRqJ169Z4++238dlnn2HgwIF499130axZM2zfvh3Lli3DG2+8gZYtWwIAXn/9dTg4OODxxx+Hl5cX0tPTERMTAxcXF2VOwbvvvovExEQEBATgzTffRKtWrfDgwQNcvHgRO3bswMcff1zmKS0yndOnTysHcZmZmdiwYQMSExPx7LPPlvgDP2vWLGUu08yZM+Hq6or//e9/2L59O+bPn6/0sfL2m1deeQWLFi3CK6+8gn//+9/w8/PDjh07yv0jXxGm3FcOHjxYuY9O48aNcenSJSxevBjNmjWDn58fAGDEiBGYOXMmXnjhBfz973/HgwcP8OGHHyI/P7/cZf7ggw/wxBNPoFevXnjjjTfQvHlzZGVl4fz589i6dWvNXEVa7dOELZR+NnzRWeGFjR49WpycnIp9T6fTyX/+8x/p0KGD2NvbS/369aV169YSFhYmv/zyi5LvwYMHEhkZKR4eHmJvby89evSQw4cPi4uLi7z99ttllmffvn0CQPbt26ekJScnS8+ePcXR0VEaN24s48aNk++//95o5nxJ5S9uJnp2drbMnDlT/Pz8xM7OTtzc3OTJJ5+U5ORkJU/RK0lERO7evSv//Oc/pVWrVmJnZycuLi7Srl07efvttyU9PV1ERLZt2yahoaHyyCOPiJ2dnXh4eMiAAQPk4MGDxTc8mdWJEyfk1VdfFV9fX9FoNGJvby9/+ctf5JVXXjG4uqK4fpSTkyNTp04VHx8fcXBwkMDAQDlx4kSxfefKlSvy2muviVarFbVaLd7e3jJ8+HC5ceOGkufSpUsycuRIcXNzE7VaLa1atZL3339f8vPzlTyrV6+WPn36iKenp9jZ2SnLOXnypMH6fvvtN3nzzTfF19dX1Gq1uLq6SufOnWXGjBly9+5dE7YglaS4q5BcXFykY8eOsnDhQnnw4IGSF8Vc0Xbq1CkZPHiwuLi4iJ2dnXTo0MFgn6dXnn4jInL16lV57rnnpH79+uLs7CzPPfecJCcnl3gV0m+//VZq/QIDA6Vt27bFvmeqfeWCBQskICBA3N3dxc7OTpo2bSpjx46VixcvGqxvx44d0rFjR3FwcJBHH31Uli5dWuJVSOHh4cWW+cKFC/Laa6/JI488Imq1Who3biwBAQEyZ86cUtvBVFT/v4BUi+jv2vi///2v1BnvREREdRUDGDNLTEzE4cOH0blzZzg4OOCHH37A3Llz4eLigpMnTxpdIUREREScA2N2DRo0QEJCAhYvXoysrCy4u7sjNDQUMTExDF6IiIhKwBEYIiIisji8Ey8RERFZHAYwREREZHEYwBAREZHFsYpJvAUFBbh+/TqcnZ2LvU0zEQCICLKysir1XKeawr5M5cG+TNaiKn3ZKgKY69evGz2BlKgkV65cqbV3VWVfpopgXyZrUZm+bBUBjP7hiFeuXDG4jblOp0NCQgJCQkIq9dyWuqKutNOdO3fg4+Oj9JfaqKS+bKnqSt+qLiW1H/ty1dX1vllb6l+VvmwVAYx+eLJBgwZGAYyjoyMaNGhQJztoedW1dqrNw9kl9WVLVdf6lqmV1X7sy5VX1/tmbat/Zfpy7Tx5SkRERFQKBjBERERkcaziFFJZ/KN2Iye//MNTF+cOrMbSENVtzadtr/Bn+J2k2qqi/Zl92XQ4AkNEREQWhwEMERERWRwGMERERGRxGMAQERGRxWEAQ0RERBaHAQwRERFZnDpxGTURVZ/SLiPV2Ajmd6v4rQyIiMrCERgiIiKyOAxgiIiIyOIwgCEiIiKLwwCGiIiILA4DGCIiIrI4DGCIiIjI4lQpgImJiUHXrl3h7OwMDw8PPPPMMzh37pxBHhFBVFQUvL294eDggKCgIJw5c8YgT05ODiZNmgR3d3c4OTlhyJAhuHr1alWKRkRERFasSgFMUlISwsPDceTIESQmJiIvLw8hISG4d++ekmf+/PlYuHAhli5dipSUFGi1WvTr1w9ZWVlKnoiICGzcuBHr1q3DoUOHcPfuXQwaNAj5+flVKR4RERFZqSrdyG7Xrl0Gr2NjY+Hh4YHU1FT07t0bIoLFixdjxowZGDp0KABg9erV8PT0RHx8PMLCwnD79m2sXLkSa9asQd++fQEAa9euhY+PD/bs2YP+/ftXpYhERERkhUx6J97bt28DAFxdXQEAFy5cQHp6OkJCQpQ8Go0GgYGBSE5ORlhYGFJTU6HT6QzyeHt7w9/fH8nJycUGMDk5OcjJyVFe37lzBwCg0+mg0+mUdP3/NfWkQvUovIy6QF9fa6+3tdePiGq/0u5cXZKLcwdWQ0ksn8kCGBFBZGQknnjiCfj7+wMA0tPTAQCenp4GeT09PXHp0iUlj52dHRo1amSUR//5omJiYjB79myj9ISEBDg6Ohqlv9eloEJ12bFjR4XyW4vExERzF6Fa3b9/39xFoEqq6E6fO3wi62eyAGbixIk4efIkDh06ZPSeSmX4DBQRMUorqrQ806dPR2RkpPL6zp078PHxQUhICBo0aKCk63Q6JCYm4l/H6iGnoPzPYTkdVbdOW+nbqV+/flCr1eYuTrXRj9QRWbOYmBhs2LABP/30ExwcHBAQEIB58+ahVatWSh4RwezZs7FixQrcvHkT3bt3x0cffYS2bdsqeXJycjBlyhR8/vnnyM7ORnBwMJYtW4YmTZqYo1pERkwSwEyaNAlbtmzBgQMHDDq3VqsF8HCUxcvLS0nPyMhQRmW0Wi1yc3Nx8+ZNg1GYjIwMBAQEFLs+jUYDjUZjlK5Wq4v9Ac4pUFXoQXLW/CNempLaz1pYc92I9PQXV3Tt2hV5eXmYMWMGQkJCcPbsWTg5OQH48+KKuLg4tGzZEnPmzEG/fv1w7tw5ODs7A3h4ccXWrVuxbt06uLm5YfLkyRg0aBBSU1NhY2NjzioSAahiACMimDRpEjZu3Ij9+/fD19fX4H1fX19otVokJiaiU6dOAIDc3FwkJSVh3rx5AIDOnTtDrVYjMTERw4cPBwCkpaXh9OnTmD9/flWKR0RU55jr4oryzk2sLUw1909jU7E5lpVRHe1XW+Y+VmX9VQpgwsPDER8fj82bN8PZ2VmZs+Li4gIHBweoVCpEREQgOjoafn5+8PPzQ3R0NBwdHTFy5Egl79ixYzF58mS4ubnB1dUVU6ZMQbt27ZQvDhERVU5NXVxR0bmJtUVV5/7N72aigpSiOudlmnvuY1XmJlYpgFm+fDkAICgoyCA9NjYWY8aMAQBMnToV2dnZmDBhgnKuNSEhQRmmBIBFixbB1tYWw4cPV861xsXFcZiSiKgKavLiivLOTawtTDX3zz9qtwlLVbzqmJdZW+Y+VmVuYpVPIZVFpVIhKioKUVFRJeaxt7fHkiVLsGTJkqoUh4iICqnJiysqOjextqhq+Soyv7KyqrP9zL19qrJuPguJiMgK6S+u2LdvX4kXVxRW0sUVJeUhMjcGMEREVkREMHHiRGzYsAF79+4t9eIKPf3FFforPwtfXKGnv7iipKtDiWqaSe/Eay140ywislS8uILqCgYwRERWhBdXUF3BAIaIyIrw4gqqKzgHhoiIiCwOAxgiIiKyOAxgiIiIyOIwgCECcODAAQwePBje3t5QqVTYtGmTwfsigqioKHh7e8PBwQFBQUE4c+aMQZ6cnBxMmjQJ7u7ucHJywpAhQ3D16tUarAURUd3BAIYIwL1799ChQwcsXbq02Pf1T+9dunQpUlJSoNVq0a9fP2RlZSl5IiIisHHjRqxbtw6HDh3C3bt3MWjQIOTn59dUNYiI6gxehUQEIDQ0FKGhocW+V11P7yUiospjAENUhup6ei/w8LRTTk6O8lr/YDOdTmf2x9yXl8am5Mt2NfXE4N+aYiltVxZ9PYrWx1rqR1QVDGCIylBdT+8FgJiYGMyePdsoPSEhAY6OjlUteo2Y363sPO91Kaj+ghSyY8eOGl1fdSt8S38AuH//vplKQlR7MIAhKidTP70XAKZPn47IyEjl9Z07d+Dj44OQkBA0aNCgagWuIf5Ru0t8T1NP8F6XAvzrWD3kFFT/U3v1TkdZxyk7nU6HxMRE9OvXz+CpvfqROqK6jAEMURkKP73Xy8tLSS/p6b2FR2EyMjJKffidRqOBRqMxSjf3I+4rIie/7MAkp0BVrnymYiltV15F+4O11Y+oMngVElEZ+PReIqLahyMwRADu3r2L8+fPK68vXLiAEydOwNXVFU2bNuXTe4mIahkGMEQAjh07hj59+iiv9fNSRo8ejbi4OD69l4iolmEAQwQgKCio1Kf48um9RES1CwMYIrI6zadtr/BnLs4dWA0lIaLqwgCGiBSV+eEnIjIHXoVEREREFocBDBEREVkcnkIyAZ5vJyIiqlkcgSEiIiKLwwCGiIiILA4DGCIiIrI4DGCIiIjI4nASLxEREXgfJEtTpRGYAwcOYPDgwfD29oZKpcKmTZsM3hcRREVFwdvbGw4ODggKCsKZM2cM8uTk5GDSpElwd3eHk5MThgwZgqtXr1alWERERGTlqhTA3Lt3Dx06dMDSpUuLfX/+/PlYuHAhli5dipSUFGi1WvTr1w9ZWVlKnoiICGzcuBHr1q3DoUOHcPfuXQwaNAj5+flVKRoRERFZsSoFMKGhoZgzZw6GDh1q9J6IYPHixZgxYwaGDh0Kf39/rF69Gvfv30d8fDwA4Pbt21i5ciUWLFiAvn37olOnTli7di1OnTqFPXv2VKVoRER1EkfGqa6otjkwFy5cQHp6OkJCQpQ0jUaDwMBAJCcnIywsDKmpqdDpdAZ5vL294e/vj+TkZPTv37/YZefk5CAnJ0d5fefOHQCATqeDTqdT0vX/19Qr+SnD5lK4nOamL0ttKlN1sPb6EQF/joy/+uqreO6554ze14+Mx8XFoWXLlpgzZw769euHc+fOwdnZGcDDkfGtW7di3bp1cHNzw+TJkzFo0CCkpqbCxsampqtEVKxqC2DS09MBAJ6engbpnp6euHTpkpLHzs4OjRo1Msqj/3xxYmJiMHv2bKP0hIQEODo6GqW/16WgwuWvbjt27DB3EYwkJiaauwjV6v79++YuAlG1Cw0NRWhoaLHvFR0ZB4DVq1fD09MT8fHxCAsLU0bG16xZg759+wIA1q5dCx8fH+zZs6fEA0uqPhWdXFxX7vRe7VchqVQqg9ciYpRWVFl5pk+fjsjISOX1nTt34OPjg5CQEDRo0EBJ1+l0SExMxL+O1UNOQenrrGmno2rPTkDfTv369YNarTZ3caqNfqSOqK6qDSPjtUVxI88am9o3Wl8Z5Wnv2jLyXpX1V1sAo9VqATwcZfHy8lLSMzIylFEZrVaL3Nxc3Lx502AUJiMjAwEBASUuW6PRQKPRGKWr1epif4BzClTIya9dAUxtDBRKaj9rYc11IyqP2jQyXlsUHnme382MBTGhiozwm3vkvSoj49UWwPj6+kKr1SIxMRGdOnUCAOTm5iIpKQnz5s0DAHTu3BlqtRqJiYkYPnw4ACAtLQ2nT5/G/Pnzq6toRER1mjlHxmuL4kae/aN2m7lUplGeEf7aMvJelZHxKgUwd+/exfnz55XXFy5cwIkTJ+Dq6oqmTZsiIiIC0dHR8PPzg5+fH6Kjo+Ho6IiRI0cCAFxcXDB27FhMnjwZbm5ucHV1xZQpU9CuXTvl3CsREZlGbRoZry0Kl6+2jdRXVkXa29zbpyrrrtJl1MeOHUOnTp2UEZbIyEh06tQJM2fOBABMnToVERERmDBhArp06YJr164hISFBmekOAIsWLcIzzzyD4cOH4/HHH4ejoyO2bt3Kme5ERCZWeGRcTz8yrg9OCo+M6+lHxksLYIhqWpVGYIKCgiBS8qQnlUqFqKgoREVFlZjH3t4eS5YswZIlS6pSFKtXmVtc15WZ6ET0J46MU13BZyEREcF6LlU9duwY+vTpo7zWz0sZPXo04uLiMHXqVGRnZ2PChAm4efMmunfvXuzIuK2tLYYPH47s7GwEBwcjLi6OI+NUqzCAISKyIhwZp7qiSnNgiIiIiMyBAQwRERFZHAYwREREZHEYwBAREZHF4SReIqJK4K0NiMyLIzBERERkcRjAEBERkcVhAENEREQWhwEMERERWRwGMERERGRxeBWSmVTmCobqWofGRjC/WzUXhoiIyIQYwBAR1ZCKHrjw4IKoZDyFRERERBaHAQwRERFZHAYwREREZHEYwBAREZHFYQBDREREFodXIRERkdUp64ov/RVe/lG7kZOvqqFSkSlxBIaIiIgsDkdgiKxYTdwwkYjIHDgCQ0RERBaHAQwRERFZHAYwREREZHE4B4aqpKJzLC7OHVhNJSEiorqEAQwREZEVKc+BZdHLyC3x4JKnkIiIiMji1JoRmGXLluH9999HWloa2rZti8WLF6NXr17mLladwhs6mQb7MlkL9mWqzWpFAPPFF18gIiICy5Ytw+OPP45PPvkEoaGhOHv2LJo2bWru4hGVG/syWQv25brFEucz1ooAZuHChRg7dizGjRsHAFi8eDF2796N5cuXIyYmxsylIyq/6uzLvCkd1STul6m2M3sAk5ubi9TUVEybNs0gPSQkBMnJycV+JicnBzk5Ocrr27dvAwD++OMP6HQ6JV2n0+H+/fuw1dVDfgFPjZTEtkBw/35BjbTTX6Z8WeHPHJ0ebJJ1Z2VlAQBExCTLK6o6+zIA2ObdM3GJq19N9i1rpG+/zMxMqNVqJd3S+3L3mG8qXKaK7gfK+r7U9b5Z1fpnZmaapBxV6ctmD2B+//135Ofnw9PT0yDd09MT6enpxX4mJiYGs2fPNkr39fWtljLWBSPNXYBSuC8w7fKysrLg4uJi2oWCfbkktblvWYLS2q8u9WVT7wcA9s2q1L827JfNHsDoqVSGEaCIGKXpTZ8+HZGRkcrrgoIC/PHHH3BzczP4zJ07d+Dj44MrV66gQYMG1VNwK1BX2klEkJWVBW9v72pdT3X0ZUtVV/pWdSmp/diXq66u983aUv+q9GWzBzDu7u6wsbExiuozMjKMon89jUYDjUZjkNawYcMS19GgQYM62UErqi60U3UcrerVRF+2VHWhb1Wn4tqPfdk06nrfrA31r2xfNvt9YOzs7NC5c2ckJiYapCcmJiIgIMBMpSKqOPZlshbsy2QJzD4CAwCRkZF4+eWX0aVLF/Ts2RMrVqzA5cuXMX78eHMXjahC2JfJWrAvU21XKwKYESNGIDMzE++++y7S0tLg7++PHTt2oFmzZlVarkajwaxZs4yGNckQ28l0qqsvWyr2raoxZ/tZe1+u633TGuqvkuq6Do+IiIiomph9DgwRERFRRTGAISIiIovDAIaIiIgsDgMYIiIisjh1NoA5evQonn32WTRt2hQajQaenp7o2bMnJk+erORp3rw5Bg0aVOayVCoVoqKiKrT+uLg4qFSqMv+aN28OABgzZgzq169frmVXpjz79++HSqXC119/XaHPUd2m78fHjh0zazmCgoIQFBRkkFaZ7wFReRW3D2/cuDGCgoKwbds2g7z698eMGVPsst59910lz8WLF5X0iuz36yKrDmCWLVsGX19f2Nvbo3Pnzjh48CAAYPv27QgICMCdO3cwf/58JCQk4IMPPsDjjz+OL774osLrOXz4sPLE1vIaOHAgDh8+bPAHAMOGDTNI27hxo8nKc+DAAQwePBje3t5QqVTYtGmTUZ4vv/wS3t7ecHBwQFBQEM6cOVPh9ZN1K9yPXn31VaP3RQRRUVGl9qOcnBxMmjQJ7u7ucHJywpAhQ3D16lWTlrMy38uaEBMTg65du8LZ2RkeHh545plncO7cOYM8taUNLV1UVJRRkKHVapX3y9POZYmNjcXhw4eRnJyMFStWwMbGBoMHD8bWrVsN8jk7O+Orr75SHl5YuAxxcXEmuRtuWft4q+tXYqXWrVsnarVaPv30Uzl79qy89dZb4uTkJJcuXZLevXtLixYtRKfTGX0uPz9f+X+zZs1k4MCBNVZmABIeHl7se6NHjxYnJ6cqLX/Hjh0yY8YMWb9+vQCQjRs3Ku/t27dPAIi9vb2sX79eTp06JSNGjBAvLy+5c+dOldZL1qVoPwIgKSkpyvtz584VZ2fnUvvR+PHj5ZFHHpHExET5/vvvpU+fPtKhQwfJy8urVJkCAwMlMDCwqlWrEf3795fY2Fg5ffq0nDhxQgYOHChNmzaVu3fvKnnM0YbWaNasWdK2bVtJS0tT/jIyMpT3y9POJYmNjTXq+yIi9+/fF41GIy+++KKSBkBGjRolDg4OsmLFCoP8e/bsEQDy+uuvCwC5cOGC8l5F9/ul7ePLW19L6ldWG8B069ZNxo8fb5DWunVrmTZtmrRt21a6d+9e5jKKC2A++ugjsbGxkZkzZyppAGTWrFnKa33H3rt3r4wfP17c3NzE1dVVnn32Wbl27VqJ6ytPAPPLL79IaGioODk5SZMmTSQyMlIePHhgtJzC5RERuXr1qrz++uvSpEkTUavVAkB69uwp6enpIiKyd+9eASAvvfSS8pmMjAyxtbUVZ2dnOXr0qIg83CEAkNOnT8sLL7wgDRo0EA8PD3n11Vfl1q1bBussKCiQjz76SDp06CD29vbSsGFDee655+T//u//DPJ9//33MnDgQGncuLHY2dmJl5eXDBgwQK5cuaLk+fLLL6Vbt27SoEEDcXBwEF9fX3n11VdLbEuqGUUDmNGjR4tKpZIpU6Yo/fSRRx4ROzs7WbJkiYiI3Lp1S9Rqtbz22mvSvn17cXJyEicnJwEgI0aMUJat72tF6b9fhXf0xQUwpvpeVreMjAwBIElJSSLy8Huj1Wpl7ty5Sp4HDx6Ii4uLfPzxxyLyZxuuW7dOyXPt2jWpV6+e7Nq1q2YrUIvNmjVLOnToUOx75Wnn0pQUwBQUFIizs7O88sorSpp+3z5y5Ejp0aOHQf6RI0fK448/Lu+//36VA5jCigYw1tivrPIUUm5uLlJTUxESEmKQHhISguTkZPTs2RNHjx7Fm2++iaNHj0Kn05W5TBHBlClTEBERgf/+97/FPja+qHHjxkGtViM+Ph7z58/H/v37MWrUqErXS6fTYciQIQgODsbmzZvx2muvYdGiRZg3b16pn7t27Rq6du2KjRs3IjIyEjt37gQAODo64ubNmwCAtLQ0AECHDh0AAFevXkVwcDDs7e3Rt29fdOvWzWCZzz33HFq2bIn169dj2rRpiI+Px9tvv22QJywsDBEREejbty82bdqEZcuW4cyZMwgICMCNGzcAAPfu3UO/fv1w48YNfPTRR0hMTMTixYvRtGlTZaj18OHDGDFiBB599FGsW7cO27dvx8yZM5GXl1fptqTqkZWVBRHB+vXrlX46duxY5Obm4r///S8AIDU1FTqdDqtWrUJgYCA2btyIzZs345FHHsGFCxeqvYym/l5W1e3btwEArq6uAIALFy4gPT3dYP+l0WgQGBiI5ORkAH+2YeE83t7e8Pf3V/LQQ7/88gu8vb3h6+uLF154Ab/++iuA8rVzeeTn5yMvLw86nQ5Xr15FREQE7t27h5EjRxrlHTt2LI4cOYIff/wRAHDr1i1s2LABY8eOrWIty2aN/apWPErA1H7//Xfk5+cbPTXV09MT6enp2LBhA3766ScsWbIES5YsgVqtRteuXTF48GBMnDjRaNJUdnY2Xn75ZezZswc7d+5EcHBwucrx1FNP4cMPP1Re//HHH5g6dSrS09MNzsOWV25uLmbPno3nn38eABAcHIxjx44hPj4eM2fOLPFzM2fOxO+//44ffvgBbdq0UdInTpyI1q1bK2UDHj4V9MSJExg4cCBatGiBZ599Vgk2Chs7diz+/ve/AwD69u2L8+fPY9WqVVi5ciVUKhWOHDmCTz/9FAsWLEBkZKTyuV69eqFly5ZYuHAh5s2bh59++gmZmZlYuXIlnn76aSXf8OHDlf8nJydDRPDxxx8bPLW0pAlxZD7Z2dkAgHfeeQdhYWEAHvbT2NhY/PLLLwCA9PR01KtXDw0aNDD4fjz22GPw9fWt9jKa+ntZFSKCyMhIPPHEE/D39wcA5QnQxe2/Ll26pOSxs7NDo0aNjPIUfYJ0Xda9e3d89tlnaNmyJW7cuIE5c+YgICAAZ86cKVc7l0ePHj0MXms0GixduhT9+/c3ytunTx/4+vpi1apVeP/99xEfHw9bW1s8//zz+PjjjytRw/Kzxn5llSMweiqVyuC1iEClUsHNzQ0HDx5ESkoK5s6di6effho///wzpk+fjnbt2uH3339XPpOZmYknn3wS3333HQ4dOlTu4AUAhgwZYvC6ffv2AFChL0fR+gwePNhomWUtb+fOnejTp49B8FKSpKQk9OrVC71790ZiYiI0Go1ROwLF1+3BgwfIyMgAAGzbtg0qlQqjRo1CXl6e8qfVatGhQwfs378fAPCXv/wFjRo1wjvvvIOPP/4YZ8+eNVpX165dATwMar788ktcu3atzHqQeRUd/XR1dcWDBw+U1yqVCrdu3cKLL76IzZs34/fff1e+n9XN1N/Lqpg4cSJOnjyJzz//3Oi9kvZfpampNrQUoaGheO6559CuXTv07dsX27dvBwCsXr1ayVOZdi7ss88+Q0pKClJSUrBz506MHj0a4eHhWLp0qVFe/ZVIa9asQV5eHlauXInhw4fX6JVG1tSvrDKAcXd3h42NjVHEmJGRYRB9dunSBe+88w6++uorXL9+HW+//TYuXryI+fPnK3l+/vlnHD16FKGhocoRUnm5ubkZvNY/NEt/lFpRjo6OsLe3N1pm4R+G4vz2229o0qRJqXn0w9c7duxAdnY23njjDWg0GqM20yurbjdu3ICIwNPTE2q12uDvyJEjSpDo4uKCpKQkdOzYEf/4xz/Qtm1beHt7Y9asWcqpvd69e2PTpk3Iy8vDK6+8giZNmsDf37/YnT6Zl4ODA4CHQ+OFZWdno6CgAACg1WqRn5+PJUuW4NKlS3juuefg4eGBb7/9Fnfv3q32Mpr6e1lZkyZNwpYtW7Bv3z6D76d+FKi0/ZdWq0Vubq5yCri4PGTMyckJ7dq1wy+//FKudi6PNm3aoEuXLujSpQueeuopfPLJJwgJCcHUqVONvgcA8Oqrr+K3335DdHQ0vv/++xo5fQRYZ7+yygDGzs4OnTt3RmJiokF6YmIiAgICiv2MWq3GrFmzAACnT59W0nv27InY2FisXLkSYWFhyk7YkjRu3LjMy+C8vLwAAP3790doaChCQ0Oxfft2JCUlldhmpXF3d4dKpcKhQ4eUo5PCf4Uv72vXrh3WrVuHzMxMnDhxAiNGjMC7776LBQsWKHmefvppfPPNN7h9+zb279+PJk2aYOTIkcrl51Q7ODs7Q6VSGXz3cnNzDUY3OnfuDLVaDQ8PDyQnJ+P27dtYs2YNsrOz8eWXXyp59cF6Tk6OwToKj5BaIhHBxIkTsWHDBuzdu9fotJmvry+0Wq1RGxb+LurbsHCetLQ0nD59ulLf17oiJycHP/74I7y8vMrVzpXVvn17ZGdn4+effzZ6z8fHB3379sXs2bPRqlWrGtte1tivrHIODABERkbi5ZdfRpcuXdCzZ0+sWLECly9fxvjx45GWlqb8YBemn1jl7e1tkD569Gg4OTlh5MiRuHfvHlavXg0bG5saqYcphIaGYs2aNfj+++9Rr96fMeuFCxdw4sQJuLq6KsODW7duRVxcnDJh2MXFpdjJaGUZNGgQ5s6di2vXrhnMZymNSqVChw4dsGjRIsTFxeH77783yqOfdNawYUPs3r0bx48fR8+ePStcPqq8u3fv4vz58wZp586dg4eHB4CHBwPR0dHw8/ODn58foqOjoVarlUDExcUFY8eOxeTJk+Hm5gZXV1esWrUKzZs3x8WLF3HmzBk0a9ZMuYnjyZMnldOIAIzur2FpwsPDER8fj82bN8PZ2Vk5InZxcYGDgwNUKhUiIiKM2tDR0VH5LhbXhlOmTFFOldBDU6ZMweDBg9G0aVNkZGRgzpw5uHPnDkaPHl2udq6sEydOAHh48FicyZMnw8HBQZnPaCpFv5uF9/FNmza1un5ltQHMiBEjkJmZiXfffRdpaWnw9/fHjh070KxZM7Rv3x5NmjTB4MGD0bp1axQUFODEiRNYsGAB6tevj7feestoecOGDYOjoyOGDRuG7OxsfP7557CzszNDzSru3Xffxc6dO9G3b1+DoUH95NrRo0crE2IHDhyIN998E3/88QcaN26MzMxMbNu2DS+++GKF1vn444/jb3/7G1599VUcO3YMvXv3hpOTE9LS0nDo0CG0a9cOb7zxBrZt24Zly5bhmWeewaOPPgoRwYYNG3Dr1i3069cPwMNJyPqropo0aYJbt27hgw8+gFqtRmBgoGkaicrt2LFj6NOnj0HaqFGjMHr0aAAPA5iIiAhMmDABN2/eRPfu3fHyyy9j+fLlSv6cnBy4urri6aefhk6ng7+/P5ycnODi4qIEKwMGDICrqyvGjh2Ld999F7a2toiLi8OVK1dqrrLVQN8ORe8cHBsbq3wPp06diuzsbIM2TEhIgLOzs5J/0aJFsLW1xfDhw5GdnY3g4GDExcVZ1MFVdbt69SpefPFF/P7772jcuDF69OiBI0eOoFmzZgDK185lOX36tHJFZGZmJjZs2IDExEQ8++yzJU5KDwkJMZonZgpFv5uF9/FxcXHW16/Mce22uX3xxRcycuRI8fPzk/r164tarZamTZvKyy+/LGfPnlXyFXcfmH379kn9+vXlqaeekvv374tIyfebKHp/AP3N4vbt21dsuVCJG9kVd6+MouUREbly5Yq89tprotVqRa1Wi7e3twwfPlxu3LhhULavvvpK+UxBQYG8+eabUq9ePfn0008N1vfbb78ZLL+4e3OIiKxatUq6d+8uTk5O4uDgIC1atJBXXnlFjh07JiIiP/30k7z44ovSokULcXBwEBcXF+nWrZvExcUpy9i2bZuEhoYq9xPx8PCQAQMGyMGDB4ttK6o5Rft6efvp6tWrpU+fPuLp6Sl2dnZKfzx58qTB57777jsJCAhQ7icza9Ys+e9//1ul+8BU9HtJVBx9fyr85+LiIh07dpSFCxca3J+rtH27nqnvA1MXqEREajRiIiIiIqoiq5zES0RERNaNAQwRERFZHAYwREREZHEYwBAREZHFYQBDREREFocBDBEREVkcq7iRXUFBAa5fv67cxpyoOCKCrKwseHt7G9yRuDZhX6byYF8ma1GVvmwVAcz169fh4+Nj7mKQhbhy5UqZD7c0F/Zlqgj2ZbIWlenLVhHA6G+DfOXKFTRo0MDMpTEPnU6HhIQEhISEQK1Wm7s4Zldce9y5cwc+Pj4Vuk14TSval7ldy68utZUl9uXSWNO2Y10qpip92SoCGP3wZIMGDep0AOPo6IgGDRpY/JfGFEprj9o8nF20L3O7ll9dbCtL6sulsaZtx7pUTmX6sslOnsbExChP99QTEURFRcHb2xsODg4ICgrCmTNnDD6Xk5ODSZMmwd3dHU5OThgyZAiuXr1qqmIRERGRFTJJAJOSkoIVK1agffv2Bunz58/HwoULsXTpUqSkpECr1aJfv37IyspS8kRERGDjxo1Yt24dDh06hLt372LQoEHIz883RdGIiOqUmJgYdO3aFc7OzvDw8MAzzzyDc+fOGeThwSVZgyqfQrp79y5eeuklfPrpp5gzZ46SLiJYvHgxZsyYgaFDhwIAVq9eDU9PT8THxyMsLAy3b9/GypUrsWbNGvTt2xcAsHbtWvj4+GDPnj3o379/VYtXI5pP217hz1ycO7AaSkJkqKJ9k/3S8iUlJSE8PBxdu3ZFXl4eZsyYgZCQEJw9exZOTk4A/jy4jIuLQ8uWLTFnzhz069cP586dU+YiREREYOvWrVi3bh3c3NwwefJkDBo0CKmpqbCxsTFnFcuF+2XrV+UAJjw8HAMHDkTfvn0NApgLFy4gPT0dISEhSppGo0FgYCCSk5MRFhaG1NRU6HQ6gzze3t7w9/dHcnJyiQFMTk4OcnJylNd37twB8PB8nU6nq2qVKkxjU/EHepu6nPrlmaP+tVFx7cG2obpg165dBq9jY2Ph4eGB1NRU9O7du04dXJJ1q1IAs27dOnz//fdISUkxei89PR0A4OnpaZDu6emJS5cuKXns7OzQqFEjozz6zxcnJiYGs2fPNkpPSEiAo6NjhetRVfO7VfwzO3bsMH1BACQmJlbLci1V4fa4f/++GUtCZB63b98GALi6ugKovoPLqhxYVscBmLkOLK3pYLIm6lKVZVc6gLly5QreeustJCQkwN7evsR8RWcWi0iZs43LyjN9+nRERkYqr/WXYYWEhJjlKiT/qN0V/szpKNMeweh0OiQmJqJfv34WP/PdFIprD/0OlaiuEBFERkbiiSeegL+/P4DqO7g0xYGlKQ/AzH1gaU0Hk9VZl6ocWFY6gElNTUVGRgY6d+6spOXn5+PAgQNYunSpMmksPT0dXl5eSp6MjAzli6PVapGbm4ubN28afFEyMjIQEBBQ4ro1Gg00Go1RulqtNsuPd05+xS//qq5ymqsNaqvC7cF2obpm4sSJOHnyJA4dOmT0nqkPLqtyYFkdB2DmOrC0poPJmqhLVQ4sKx3ABAcH49SpUwZpr776Klq3bo133nkHjz76KLRaLRITE9GpUycAQG5uLpKSkjBv3jwAQOfOnaFWq5GYmIjhw4cDANLS0nD69GnMnz+/skUjIqrzJk2ahC1btuDAgQMGdzjVarUATH9waYoDS1MegJn7wNKaDiarsy5VWW6lL6N2dnaGv7+/wZ+TkxPc3Nzg7++v3BMmOjoaGzduxOnTpzFmzBg4Ojpi5MiRAAAXFxeMHTsWkydPxjfffIPjx49j1KhRaNeunTJxjIiIyk9EMHHiRGzYsAF79+6Fr6+vwfu+vr7KwaWe/uBSH5wUPrjU0x9cljY6TlSTqvVOvFOnTkV2djYmTJiAmzdvonv37khISDC4ZfCiRYtga2uL4cOHIzs7G8HBwYiLi7OIy/SIiGqb8PBwxMfHY/PmzXB2dlbmrLi4uMDBwcHg4NLPzw9+fn6Ijo4u8eDSzc0Nrq6umDJlitUfXPLSa8ti0gBm//79Bq9VKhWioqIQFRVV4mfs7e2xZMkSLFmyxJRFISKqk5YvXw4ACAoKMkiPjY3FmDFjAPDgkqyDVTwLiYiIHhIp+/JhHlySNTDZs5CIiIiIagoDGCIiIrI4DGCIiIjI4jCAISIiIovDAIaIiIgsDgMYIiIisjgMYIiIiMjiMIAhIiIii8MAhqiImJgY5XbreiKCqKgoeHt7w8HBAUFBQThz5ozB53JycjBp0iS4u7vDyckJQ4YMwdWrV2u49EREdQMDGKJCUlJSsGLFCrRv394gff78+Vi4cCGWLl2KlJQUaLVa9OvXD1lZWUqeiIgIbNy4EevWrcOhQ4dw9+5dDBo0CPn5+TVdDSIiq8cAhuj/u3v3Ll566SV8+umnaNSokZIuIli8eDFmzJiBoUOHwt/fH6tXr8b9+/cRHx8PALh9+zZWrlyJBQsWoG/fvujUqRPWrl2LU6dOYc+ePeaqEhGR1eKzkIj+v/DwcAwcOBB9+/bFnDlzlPQLFy4gPT0dISEhSppGo0FgYCCSk5MRFhaG1NRU6HQ6gzze3t7w9/dHcnIy+vfvX+w6c3JykJOTo7y+c+cOAECn0yl/+teVobEp+7k4hVV2PbVBVdvKktSFOhKVhQEMEYB169bh+++/R0pKitF76enpAABPT0+DdE9PT1y6dEnJY2dnZzByo8+j/3xxYmJiMHv2bKP0hIQEODo6Kq8TExPLX5lC5nerWP4dO3ZUaj21SWXbypLcv3/f3EWocc2nbTd3EaiWYQBDdd6VK1fw1ltvISEhAfb29iXmU6lUBq9FxCitqLLyTJ8+HZGRkcrrO3fuwMfHByEhIWjQoAF0Oh0SExPRr18/qNXqctboT/5RuyuU/3RU8SNFlqCqbWVJ9CN1RHUZAxiq81JTU5GRkYHOnTsrafn5+Thw4ACWLl2Kc+fOAXg4yuLl5aXkycjIUEZltFotcnNzcfPmTYNRmIyMDAQEBJS4bo1GA41GY5SuVqsNfoSLvi6vnPzSA6zi1mvpKttWlsTa60dUHpzES3VecHAwTp06hRMnTih/Xbp0wUsvvYQTJ07g0UcfhVarNTg1kZubi6SkJCU46dy5M9RqtUGetLQ0nD59utQAhoiIKocjMFTnOTs7w9/f3yDNyckJbm5uSnpERASio6Ph5+cHPz8/REdHw9HRESNHjgQAuLi4YOzYsZg8eTLc3Nzg6uqKKVOmoF27dujbt2+N14mIyNoxgCEqh6lTpyI7OxsTJkzAzZs30b17dyQkJMDZ2VnJs2jRItja2mL48OHIzs5GcHAw4uLiYGNjY8aSExFZJwYwRMXYv3+/wWuVSoWoqChERUWV+Bl7e3ssWbIES5Ysqd7CERER58AQERGR5WEAQ0RERBaHAQwRERFZHAYwREREZHEYwBAREZHFYQBDREREFocBDBEREVkcBjBERERkcRjAEBERkcVhAENEREQWhwEMERERWRwGMERERGRxGMAQERGRxWEAQ0RERBaHAQwRERFZHAYwREREZHEYwBAREZHFqVIAExMTg65du8LZ2RkeHh545plncO7cOYM8IoKoqCh4e3vDwcEBQUFBOHPmjEGenJwcTJo0Ce7u7nBycsKQIUNw9erVqhSNiIiIrFiVApikpCSEh4fjyJEjSExMRF5eHkJCQnDv3j0lz/z587Fw4UIsXboUKSkp0Gq16NevH7KyspQ8ERER2LhxI9atW4dDhw7h7t27GDRoEPLz86tSPCKiOufAgQMYPHgwvL29oVKpsGnTJoP3eVBJ1qJKAcyuXbswZswYtG3bFh06dEBsbCwuX76M1NRUAA+/KIsXL8aMGTMwdOhQ+Pv7Y/Xq1bh//z7i4+MBALdv38bKlSuxYMEC9O3bF506dcLatWtx6tQp7Nmzp+o1JCKqQ+7du4cOHTpg6dKlxb7Pg0qyFramXNjt27cBAK6urgCACxcuID09HSEhIUoejUaDwMBAJCcnIywsDKmpqdDpdAZ5vL294e/vj+TkZPTv399oPTk5OcjJyVFe37lzBwCg0+mg0+lMWaVy0dhIhT9j6nLql2eO+tdGxbUH24bqgtDQUISGhhb7XtGDSgBYvXo1PD09ER8fj7CwMOWgcs2aNejbty8AYO3atfDx8cGePXuK3ScTmYPJAhgRQWRkJJ544gn4+/sDANLT0wEAnp6eBnk9PT1x6dIlJY+dnR0aNWpklEf/+aJiYmIwe/Zso/SEhAQ4OjpWuS4VNb9bxT+zY8cO0xcEQGJiYrUs11IVbo/79++bsSRE5lddB5VA1Q4sy3MAVpkDxZpQtMzWdDBZE3WpyrJNFsBMnDgRJ0+exKFDh4zeU6lUBq9FxCitqNLyTJ8+HZGRkcrrO3fuwMfHByEhIWjQoEElSl81/lG7K/yZ01GmPYrR6XRITExEv379oFarTbpsS1Rce+h3qER1VXUdVAKmObAs7QCsMgeKNaGkg1FrOpiszrpU5cDSJAHMpEmTsGXLFhw4cABNmjRR0rVaLYCHXwgvLy8lPSMjQ/kCabVa5Obm4ubNmwZfmIyMDAQEBBS7Po1GA41GY5SuVqvN8uOdk196MFac6iqnudqgtircHmwXoodMfVAJVO3AsjwHYJU5UKwJRQ9GrelgsibqUpUDyyoFMCKCSZMmYePGjdi/fz98fX0N3vf19YVWq0ViYiI6deoEAMjNzUVSUhLmzZsHAOjcuTPUajUSExMxfPhwAEBaWhpOnz6N+fPnV6V4RERUSHUdVAKmObAsLW9lDhRrQknltaaDyeqsS1WWW6WrkMLDw7F27VrEx8fD2dkZ6enpSE9PR3Z2NoCHUX5ERASio6OxceNGnD59GmPGjIGjoyNGjhwJAHBxccHYsWMxefJkfPPNNzh+/DhGjRqFdu3aKRPIiIio6gofVOrpDyr1wUnhg0o9/UFlaQEMUU2r0gjM8uXLAQBBQUEG6bGxsRgzZgwAYOrUqcjOzsaECRNw8+ZNdO/eHQkJCXB2dlbyL1q0CLa2thg+fDiys7MRHByMuLg42NjYVKV4RER1zt27d3H+/Hnl9YULF3DixAm4urqiadOmykGln58f/Pz8EB0dXeJBpZubG1xdXTFlyhQeVJag+bTtBq81NoL53R6e8ipu1Oji3IE1VTSrV6URGBEp9k8fvAAPR2GioqKQlpaGBw8eICkpSblKSc/e3h5LlixBZmYm7t+/j61bt8LHx6cqRSOqEN5VmqzFsWPH0KlTJ+W0fWRkJDp16oSZM2cCeHhQGRERgQkTJqBLly64du1asQeVzzzzDIYPH47HH38cjo6O2Lp1Kw8qqVbhs5CIwLtKk/UICgoq9sAyLi4OAA8qyXqY9EZ2RJZq165dBq9jY2Ph4eGB1NRU9O7dmzcAIyKqZRjAEBWjttxVuqo3kqrozb8s+eZb1nQDsbLUhToSlYUBDFERtfGu0pW9kVRFb/5VXXeIrknWdAOxkvCu0kQMYIiM1Ka7Slf1RlIVvfmXqe8QXZOs6QZiZeFdpYkYwBAZqK13la7sjaQqevMva/jht6YbiJXE2utHVB68CokID0dJJk6ciA0bNmDv3r2l3lVajzcAIyIyH47AFKPojYnI+oWHhyM+Ph6bN29W7ioNPLypl4ODg8FdpXkDMCIi82MAQwTeVZqIyNIwgCHCw1NIZdHfACwqKqrEPPobgC1ZssSEpSMioqI4B4aIiIgsDgMYIiIisjgMYIiIiMjicA6MmVT0Sic+gp2IiOhPDGCILAQv7yci+hNPIREREZHF4QgMERHVqKKjiRobwfxuD5/dVdHHX1DdxREYIiIisjgcgSEiIqohlZnLxos4iscRGCIiIrI4DGCIiIjI4jCAISIiIovDAIaIiIgsDgMYIiIisjgMYIiIiMjiMIAhIiIii8MAhoiIiCyO1d/Ijg/AIyIisj4cgSEiIiKLwwCGiIiILI7Vn0IiovLjc1qIyFJwBIaIiIgsDkdgLERZR8YaG8H8boB/1G7k5KsA8MiYiIisF0dgiIiIyOIwgCEiIiKLw1NIRFQlFZ34y1ObRGQKDGCIiIhqMR4kFK/WnEJatmwZfH19YW9vj86dO+PgwYPmLhJRpbAvk7VgX6barFYEMF988QUiIiIwY8YMHD9+HL169UJoaCguX75s7qIRVQj7MlkL9mWq7WrFKaSFCxdi7NixGDduHABg8eLF2L17N5YvX46YmBgzl46o/NiXy1ZdzycrfCuBc/8eVC3rqEvYly1XXbkhpdkDmNzcXKSmpmLatGkG6SEhIUhOTi72Mzk5OcjJyVFe3759GwDwxx9/QKfTGeS1zbtn4hLXTrYFgvv3C2Crq4f8gof3gfnLlC8rtIyj04Oro2hmodPpcP/+fWRmZkKtVgMAsrKyAAAiUi3rrI6+XLgedaUvV1bh70BF+z5Q8f7fPeabal9HSSyxLxdWtC8Xt/+yVJZal+K+M5p6gn92KkDHGRuQY4K6FNf/q9SXxcyuXbsmAOTbb781SP/3v/8tLVu2LPYzs2bNEgD841+l/q5cucK+zD+r+GNf5p+1/FWmL5t9BEZPpTKM7kTEKE1v+vTpiIyMVF4XFBTgjz/+gJubW4mfsXZ37tyBj48Prly5ggYNGpi7OGZXXHuICLKysuDt7V2t6zZlX+Z2Lb+61FaW2JdLY03bjnWpmKr0ZbMHMO7u7rCxsUF6erpBekZGBjw9PYv9jEajgUajMUhr2LBhdRXRojRo0MDivzSmVLQ9XFxcqm1d1dmXuV3Lr660laX25dJY07ZjXcqvsn3Z7Fch2dnZoXPnzkhMTDRIT0xMREBAgJlKRVRx7MtkLdiXyRKYfQQGACIjI/Hyyy+jS5cu6NmzJ1asWIHLly9j/Pjx5i4aUYWwL5O1YF+m2q5WBDAjRoxAZmYm3n33XaSlpcHf3x87duxAs2bNzF00i6HRaDBr1iyjIdy6ylztYeq+zO1afmwr06rJ/bI1bTvWpeaoRKrpOjwiIiKiamL2OTBEREREFcUAhoiIiCwOAxgiIiKyOAxgiIiIyOJUOICJi4uDSqVS/uzt7aHVatGnTx/ExMQgIyPDIH9UVFSl7447ZswY1K9fv1KfLUl8fDwWL15s0mUWp3AbqVQquLi4ICgoCNu3V/5Bdvq2LPp38eJFAA/vaNi8eXNoNBo4ODggKCgIZ86cMVGNTKukuqhUKixdurTYzxw4cACDBw+Gt7c3VCoVNm3aZPC+iCAqKgre3t4l1j8nJweTJk2Cu7s7nJycMGTIEFy9etUgz7JlyxAXF2e0/osXL0KlUhX7XnVZtmwZfH19YW9vj86dO+PgwYM1tu7q9OGHH0KlUsHf37/UfMX1E61Wq7xvqm1O1S8mJgZdu3aFs7MzPDw88Mwzz+DcuXMGecqzPSvryJEjeP755+Hl5QU7OztotVoMGzYMhw8frvQyo6OjsWnTJsTExEClUiEiIkJ5rzrrUh2uXbuGUaNGwc3NDY6OjujYsSNSU1OV92tlfSr67IHY2FgBILGxsXL48GE5cOCAfP311xIRESEuLi7i6uoqiYmJSv4rV67I4cOHK/yMAxGR0aNHi5OTU6U+W5KBAwdKs2bNTLrM4gCQYcOGyeHDh+Xbb7+VNWvWSKtWrUSlUsm2bdsqtcxZs2ZJ27ZtJS0tTdLS0mTx4sUCQC5cuCAiInPnzhVHR0dZvHixnDp1SkaMGCFeXl5y584dE9bMNPTPTdm1a5ccPnzY4C89Pb3Yz+zYsUNmzJgh69evFwCyceNGg/fnzp0rzs7Osn79+hLrP378eHnkkUckMTFRvv/+e+nTp4906NBB8vLylDxt27aVwMBAo/U/ePBADh8+LBkZGSZpg7KsW7dO1Gq1fPrpp3L27Fl56623xMnJSS5dulQj669OHTp0UJ6BcuTIkRLzFe3zaWlpBu1vqm1O1a9///4SGxsrp0+flhMnTsjAgQOladOmcvfuXSVPebZnZXz44YdSr1496dGjh3z22WeSlJQka9askR49eki9evVkyZIllVquk5OTDBw4UJo3by7t27eXt956q9rrUh3++OMPadasmYwZM0aOHj0qFy5ckD179sj58+eVPLWxPpUOYFJSUozeu3Tpkvj4+Iizs3OJP0IVYekBTHh4uEHa+fPnBYD07du3UsucNWuWdOjQQXmt3xYXLlyQgoIC0Wq1MnfuXOX9Bw8eiIuLi3z88ceVWp+IyL179yr92dLoA5jffvutUp8vGsCUp/63bt0StVot69atU/Jcu3ZN6tWrJ7t27VLSSgpgalq3bt1k/PjxBmmtW7eWadOmmalEppGSkiIAZODAgQJAXn/99RLzFu3zhZlym1PNy8jIEACSlJQkIuXbnpVx6NAhqVevngwaNEh0Op3BezqdTgYNGiT16tWTQ4cOVXjZTk5O4uzsLImJiRIYGKgEMNVVl+ryzjvvyBNPPFHi+7W1PiadA9O0aVMsWLAAWVlZ+OSTTwAUfwrpiy++QEhICLy8vODg4IA2bdpg2rRpuHfvXnGLxZkzZxAcHAwnJyc0btwYEydOxP379w3yiAiWLVuGjh07wsHBAY0aNcKwYcPw66+/Knn0p3AuXbpkMCStl5ubizlz5qB169bQaDRo3LgxXn31Vfz2228G69q7dy+CgoLg5uYGBwcHNG3aFM8995xRmYpq0aIFGjdujEuXLilpx44dw5AhQ+Dq6gp7e3t06tQJX35p/FjzI0eOYNWqVfjhhx9gY2ODhg0b4qOPPlLev3DhAtLT0/HVV18hKCgIwMObEAUGBiIxMRHDhg2Ds7MzGjZsiJdeegkpKSlGp0P0p+xOnTqFkJAQODs7Izg4uEJtAzzcvj179oSTkxPq16+P/v374/jx46W2TVGlna4p2p+ioqJQr149pKenY9++fXBxcYGnpyfeeOMNBAQEIDk5GQCQmpoKnU6HixcvKv3kscceg729PWJjYwEAzZs3x5kzZ5CUlKT0j+bNm5dapkOHDiE4OBjOzs5wdHREQECA0alC/anXffv24Y033oC7uzvc3NwwdOhQXL9+3aiOubm5SE1NRUhIiEF6SEiIUh9LtXLlSgDA3LlzERAQgHXr1hl9d65evYphw4YhJiYGP/zwAxwcHJRTh/PnzwfwZ59v0qSJ8h1ycXGBiCA+Ph7An9u8cDt6e3vD39/f4tvR0t2+fRsA4OrqCuDP7Vl4W+n3YVXZVvrTO8uXL4etreG9W21tbbFs2TKoVCrMnTsXwMP9oP47X1jR3zKVSoV79+4hKysL/fr1Q1JSEr7++muDuhw9ehQ+Pj6ws7ODr68vHB0d8c033yjLuHz5MkaNGgUPDw9oNBq0adMGCxYsQEFBgZJHv995//33MW/ePDRv3lw5hfPzzz9Dp9Nh2rRp8Pb2houLC5599lmjqRxA6fvlLVu2oEuXLnj++efh4eGBTp064dNPP1U+W13bpqpMPol3wIABsLGxwYEDB0rM88svv2DAgAFYuXIldu3ahYiICHz55ZcYPHiwUV6dTocBAwYgODgYmzZtwsSJE/HJJ59gxIgRBvnCwsIQERGBvn37YtOmTVi2bBnOnDmDgIAA3LhxA8DD+QSPP/44tFotDh8+rPwBD5+c+vTTT2Pu3LkYOXIktm/fjrlz5yIxMRFBQUHIzs4G8LAzDRw4EHZ2dli1ahV27dqFuXPnwsnJCbm5uaW2zc2bN5GZmYnGjRsDAPbt24fHH38ct27dwscff4zNmzejY8eOGDFihMGP5NmzZxEcHKycY120aBH8/Pxw6tQpZbn6h67Z2dkZrNPV1RU7d+7Evn37MG/ePHz55Zfw9PQ0aj+93NxcDBkyBE8++SQ2b96M2bNnl7ttgIfnhF988UU89thj+PLLL7FmzRpkZWWhV69eOHv2rNH68vPzkZeXp/zl5+eX2oZleeyxx7B+/XpMmzYN8fHx+L//+z+lbdLT01GvXj1Mnz4dXbt2xRdffIF169bB29sbV65cAQBs3LgRjz76KDp16qT0j40bN5a4vqSkJDz55JO4ffs2Vq5cic8//xzOzs4YPHgwvvjiC6P848aNg1qtRnx8PObPn4/9+/dj1KhRRvl+//135OfnGz04z9PT0+gBe5YkOzsbn3/+Obp27Qp/f3+89tpryMrKwldffaXkuXfvHvr06YN9+/Zh3Lhx+Oc//4nnn38e8v/vufnvf/8bmZmZSju89tprBt8hrVaLAwcOIC4uDunp6bCzs0OjRo0MymHp7WjpRASRkZF44oknlHlQ+u1hyj6fn5+Pffv2oUuXLmjSpEmxeXx8fNC5c2fs3bu3Qvufd999FyqVCk899RQOHz6MTp06oU+fPgCg7JuTkpIQGRmJnTt3YvHixXB2dlYOWH777TcEBAQgISEB7733HrZs2YK+fftiypQpmDhxotH6PvroI3z77bf46KOP8N///hc//fQTBg8ejLFjx+K3337DqlWrMH/+fOzZswfjxo0z+GxZ++Vff/0Vy5cvh5+fH3bv3o3x48fjzTffxGeffQageraNSVR0yKa0U0h6np6e0qZNGxH581RBSQoKCkSn00lSUpIAkB9++EF5b/To0QJAPvjgA4PP/Pvf/xYAypDf4cOHBYAsWLDAIN+VK1fEwcFBpk6dqqSVdArp888/FwCyfv16g3T9cPeyZctEROTrr78WAHLixIkS6yTy8BTHhAkTRKfTSW5urvz4448SGhoqAOSjjz4SkYenAzp16mQ0rDlo0CDx8vKS/Px8EREZMWKEODg4GJyWy8vLk5YtWwoAmTFjhnz77bcCQHr27Glw+iMgIEAAyM6dOw3WERYWpsxl0tO396pVqyrVNpcvXxZbW1uZNGmSQb6srCzRarUyfPhwJU3fL4r+PfLIIyIicuHCBaPyFW5bFDqFVHhZ169fV/JNmDBBbGxsJCQkRERE/vWvfyntVVjfvn0lLCxMeV3SKaTiytSjRw/x8PCQrKwsJS0vL0/8/f2lSZMmUlBQICJ/fm8mTJhgsMz58+cLAElLSzNIv3btmgCQ5ORkg/Q5c+ZIq1atjMpmKT777DMBoAw7Z2VlSf369aVXr15Kno8++qjUPtugQQNZsGCB0uf9/f0NvkPjxo2Txo0bi5eXl6xZs0bs7OyMylF0m1PNmjBhgjRr1kyuXLmipOm3Z+HvsMjD7dm/f/9KrSc9PV0AyAsvvFBqvhEjRggAuXHjhowePbrY34jCv2WXL18WDw8PcXBwkNGjR4uIGJxCGjRokMHpseLqMm3aNAEgR48eNcjzxhtviEqlknPnzonIn/udDh06KL8JIqLMgRwyZIjB5yMiIgSA3L59WylrWftltVotPXv2NHh/0qRJ0qNHDxGpnm1jCtVyGbWU8XSCX3/9FSNHjoRWq4WNjQ3UajUCAwMBAD/++KNR/pdeesng9ciRIwE8HMEAgG3btkGlUmHUqFEGR/NarRYdOnTA/v37yyzztm3b0LBhQwwePNhgGR07doRWq1WW0bFjR9jZ2eFvf/sbVq9ebXCKqqhly5ZBrVbDzs4Obdq0QXJyMt59911MmDAB58+fx08//aTUrfA6BwwYgLS0NGWG/r59+xAcHGwQ/drY2ODFF18E8HB4T39lRtFRoIsXL0KtVuOpp54ySNd/tjjPPfdcpdpm9+7dyMvLwyuvvGKQz97eHoGBgcVuhz179iAlJUX527FjR4nlKo/CRwPt27dHfn6+8qj28+fPAzDuTxkZGUZHFuVx7949HD16FMOGDTO4Ws7GxgYvv/wyrl69anSVxZAhQwxet2/fHgAMTisCgLu7O2xsbIyObipb1tpi5cqVcHBwwAsvvAAAqF+/Pp5//nkcPHgQv/zyC4CHR63Ozs4l9tkmTZrgl19+wYMHDwAA/fr1A/Dndyg9PR2PPvoo0tLSoNPpkJubi5s3bxosy9Lb0ZJNmjQJW7Zswb59+wxGRfT7MHP0ef1vVnmvmE1NTUVGRgays7Px2WefwdbWFklJSfjwww9ha2uL7777DgDg7Oxs8LnCddm7dy8ee+wxdOvWzSDPmDFjICLYu3evQfqAAQNQr96fP9lt2rQBAAwcONAgnz798uXLAMq3X/by8sJjjz1mtBz9Msy5bUpj8gDm3r17yMzMhLe3d7Hv3717F7169cLRo0cxZ84c7N+/HykpKdiwYQMAGJyOAB6eo3RzczNI0zdmZmYmAODGjRsQEXh6ekKtVhv8HTlyBL///nuZ5b5x4wZu3boFOzs7o2Wkp6cry2jRogX27NkDDw8PhIeHo0WLFmjRogU++OADo2UOHz4cKSkpOHbsGM6dO4fMzEz861//UtYHAFOmTDFa34QJEwBAWWdmZqbBpaN67u7uAAAPDw/4+vpCq9Ua7Khzc3Nx48YNNGzY0OizJXU6R0dHNGjQoFJto69T165djfJ98cUXxW6HDh06oEuXLsqf/ge9Mjw8PJCYmKi8trGxUdYBAGq1GgBw8uRJJU9aWhpOnz6NgICACq/v5s2bEBF4eXkZvafv//o+qle0L+sfkla039vZ2aFz584G9QGAxMTESpW1Njh//jwOHDiAgQMHQkRw69Yt3Lp1C8OGDQMArFq1CsDDNiuuf+rTrl+/rlwKCwCLFi0y6Gvbtm3D0aNHATzcV6jVaoN2rMo2p8oTEUycOBEbNmzA3r174evra/C+fh9WeFvl5uYiKSmp0tvK3d0djo6OuHDhQqn5Ll68CEdHR2U+TlmCg4Nx6tQpODg4YPDgwThx4gS6dOmCl156CSdOnMAff/wBBweHUuuSmZlZoX1H0bLp+39J6foAvzz75ccff9zoYOvnn39WHtxZHdvGFEz+NOrt27cjPz9fmUha1N69e3H9+nXs379fGXUBgFu3bhWbPy8vD5mZmQY7fn0UqE9zd3eHSqXCwYMHi31qZnmepKmfVLlr165i3y8cSffq1Qu9evVCfn4+jh07hiVLliAiIgKenp7KkSUANG7cGF26dClxfQAwffp0DB06tNg8rVq1UuqZnp6OKVOmYPDgwWjatCkyMjLw4YcfAng4YqKfHzNjxgw4ODjg9OnTiI6OhlqtVjpyYSWdtyzuCKS8baOv09dff13lJ9ba29sDeHgPD727d+/i2LFjyusLFy7gxIkTymTAsLAwREdHw8/PD35+fvjvf/8LAHj66acBAI888ggA4O2334a7uztcXV0xZcoUtGvXDn379q1wGRs1aoR69eohLS3N6D39eW59m1RGZGQkXn75ZXTp0gU9e/bEihUrcPnyZYwfP77SyzSnVatWQUTw9ddfK5MdC1u9ejXmzJkDNzc35Qi2cJ/XH5E+ePAAo0ePVvq1RqPBe++9h6ZNm2LVqlVITU3F+vXr4eTkhFatWmHs2LGYPHky3NzcqrzNqfLCw8MRHx+PzZs3w9nZWdkHubi4wMHBQdmHFf4OR0dHw9HRURl1rygbGxv06dMHu3btwtWrV4udB3P16lWkpqYiNDQUNjY2sLe3N9jv6BU+AHN2doa/vz/q1auHRo0awd/fH05OTnBzc4O/vz8aN26M+vXrl1oXNze3att3FFae/bKIICAgANHR0Rg+fDi+++47rFixAitWrACAatk2JlHRc07luYzaxcVFuVdD0TkwW7ZsEQBG94YZNmxYiXMySpoDc/DgQRF5eJkcAPniiy/KLP/QoUPFw8PDKH3t2rVl3pOiJLdu3RIA8ve//11JQzGXURfl5+cnAwYMKHP5+jkwTz/9tHh5eYlarRYvLy9xdnY2uA9MQUGBNGvWTNRqtWg0Gundu7fMmDFDAMiOHTsMllnSHJjiLlsvb9tcuHBBbG1tZd68eWXWqazLqAsKCsTe3t5gzsi+ffuKnTejv6dIRkaGzJo1S7RarWg0GmWOkL59Dhw4IACka9eu4urqKg4ODjJo0CC5fPmywbr/+te/Srdu3YqtX9E269mzp2i1Wrl//76Slp+fL+3atSt2DkzR742+Tvv27Su2HT766CNp1qyZ2NnZyV//+lejc+qWIi8vT7y9vaVFixayb98+o7/JkycLANm6dasyB2bHjh3KvSbUarU4OjoKAJkzZ46yXD8/P/Hz81O2ee/eveXUqVMG687OzpaJEyeWus2p+hX33S36fSooKDD4Dhe3PStKfxn14MGDje79k5eXp1xG/e2334qISExMjNSrV89gzmFOTo785S9/MZrP6erqqsztKzwH5rXXXhO1Wi3h4eEl1mX69OkCQFJTUw2WGR4eXuwcmPfff98gn37f8dVXXxmkF93XlHe/vHXrVvH39xeNRiOtW7eWFStWGLxfHdumqqp8I7uDBw/K+vXrDW5kt3fvXiV/0QDm999/l0aNGkmHDh1kw4YNsnXrVnnhhRfEz8+v2B9UOzs7adq0qfz73/+WhIQEiYqKEltbWwkNDTUo19/+9jdxdHSUv//977J161bZu3ev/O9//5M33nhDmWRauDzLli2To0ePKhs5Ly9PQkNDxdXVVWbPni07d+6UPXv2SFxcnIwePVo2bNggIiLLly+X559/XuLi4mTv3r2yY8cOJfjavXv3nw1bjgBm7969otFoJCQkROLj4yUpKUk2btwo0dHRMmzYMCXfqVOnxMHBQR577DFZt26dbNmyRfr37y8+Pj4GP9AiD79EhSeg3r17V/7yl7+Iq6urLFu2TBISEuTtt9+W5s2bCwBZvXq1QXsXF8CUt21ERKKjo8XW1lbCwsJk48aNsn//fvniiy9k8uTJMnPmTKPtUNp9YMaNGyf29vayYMEC2bNnj0RHR4u/v78AkFmzZpW5rML3ydF7+eWXRaVSyd/+9jfZsmWL7N69W+bOnSsffvihQTtoNBpZt26dfPfdd3Ly5EkRKT6A2b9/v6jVaunevbt89dVXsnnzZunfv7+oVCqDe49UNoCxFlu3bhUAJe5Ef/vtN9FoNPLMM89UqM+W9ztEdVvhG9mtXbtWDhw4IGvXrpWePXtKvXr1DL7/v/76q6jVagkKCpLt27fL+vXrJTAwUHx9fY0CmMDAQPHw8JAtW7ZISkqK/PTTTyIicvXqVfHy8hIPDw9ZvHixfPPNN7J+/Xp5/fXX5ccffxSRh/fBeeSRR0Sr1cqKFStk9+7d8uabb4pKpTI4cKtqACNS/v2ypal0AKP/s7OzEw8PDwkMDJTo6Giju5QWdxVScnKy9OzZUxwdHaVx48Yybtw4+f7770scETh58qQEBQWJg4ODuLq6yhtvvGFw90a9VatWSffu3cXJyUkcHBykRYsW8sorr8ixY8eUPH/88YcMGzZMGjZsKCqVyqBsOp1O/vOf/0iHDh3E3t5e6tevL61bt5awsDD55ZdfROThFU/PPvusNGvWTDQajbi5uUlgYKBs2bLFsGHLEcCIiPzwww8yfPhw8fDwELVaLVqtVp588kmjmwN9++230qNHD9FoNKLVauXvf/+7rFixoswARuThLPShQ4dK/fr1xdnZWZ577jnZsWOHAJDNmzcbtXdxytM2eps2bZI+ffpIgwYNRKPRSLNmzWTYsGGyZ88eJU95Apjbt2/LuHHjxNPTU5ycnGTw4MFy8eLFKgUw+fn5smjRIvH39xc7OztxcXGRnj17ytatW5U8Fy9elJCQEGWES39FQklXRh08eFCefPJJpd/16NHDYHmFy1JXA5hnnnlG7OzsSr2L8QsvvCC2traSnp5e7j4rUv7vENVthw8flmHDhomnp6fY2tqKh4eHDB061OhKP5GHd/3u2LGjODg4yKOPPipLly4t9rfsxIkT8vjjjyujg4X3vVeuXJHXXntNtFqtqNVq8fb2luHDh8uNGzeUPJcuXZKRI0eKm5ubqNVqadWqlbz//vsGVxuZIoARKd9+2dKoRMq4ZIisUnR0NP75z3/i8uXLJd4fgag2YZ8losJMPomXah/9wxFbt24NnU6HvXv34sMPP8SoUaP4Q0C1EvssEZWFAUwd4OjoiEWLFuHixYvIyclB06ZN8c477+Cf//ynuYtGVCz2WSIqC08hERERkcWpljvxEhEREVUnBjBERERkcRjAEBERkcWxikm8BQUFuH79Opydncv9MC6qe0QEWVlZ8Pb2NngoWm3Cvkzlwb5M1qIqfdkqApjr16/Dx8fH3MUgC3HlypVaeyku+zJVBPsyWYvK9GWrCGD0DxO8cOECDh8+jJCQEOXJw5ZOp9MhISHBquoEmKded+7cgY+Pj9Ej7msTfdmuXLli9FTwslhbX2F9SmbJfdnatmtFsO7Gda9KX7aKAEY/POns7AxHR0c0aNDAajqHTqezujoB5q1XbR7O1petQYMGlQpgrKmvsD5ls8S+bG3btSJY95LrXpm+XDtPnhIRERGVggEMERERWRyrOIVUmubTtlf4MxfnDqyGkhBVTVl9WWMjmN8N8I/ajZz8h8Ox7MtUWxXup+XBvkxFcQSGiIiILA4DGCIiIrI4DGCIiIjI4jCAISIiIovDAIaIiIgsDgMYIiIisjgMYIiIiMjiMIAhIiIii8MAhoiIiCwOAxgiIiKyOAxgiIiIyOIwgCEiIiKLwwCGiIiILA4DGCIiIrI4DGCIiKxUTEwMVCoVIiIilDQRQVRUFLy9veHg4ICgoCCcOXPG4HM5OTmYNGkS3N3d4eTkhCFDhuDq1as1XHqi0jGAISKyQikpKVixYgXat29vkD5//nwsXLgQS5cuRUpKCrRaLfr164esrCwlT0REBDZu3Ih169bh0KFDuHv3LgYNGoT8/PyargZRiRjAEBFZmbt37+Kll17Cp59+ikaNGinpIoLFixdjxowZGDp0KPz9/bF69Wrcv38f8fHxAIDbt29j5cqVWLBgAfr27YtOnTph7dq1OHXqFPbs2WOuKhEZsTV3AYiIyLTCw8MxcOBA9O3bF3PmzFHSL1y4gPT0dISEhChpGo0GgYGBSE5ORlhYGFJTU6HT6QzyeHt7w9/fH8nJyejfv3+x68zJyUFOTo7y+s6dOwAAnU4HnU6npOv/r6knFapT4WVYKn0drKEuFVVS3avSFgxgiIisyLp16/D9998jJSXF6L309HQAgKenp0G6p6cnLl26pOSxs7MzGLnR59F/vjgxMTGYPXu2UXpCQgIcHR2N0t/rUlB2ZQrZsWNHhfLXZomJieYugtkUrfv9+/crvSwGMEREVuLKlSt46623kJCQAHt7+xLzqVQqg9ciYpRWVFl5pk+fjsjISOX1nTt34OPjg5CQEDRo0EBJ1+l0SExMxL+O1UNOQenrLOx0VPEjP5ZEX/d+/fpBrVabuzg1qqS660fqKoMBDBGRlUhNTUVGRgY6d+6spOXn5+PAgQNYunQpzp07B+DhKIuXl5eSJyMjQxmV0Wq1yM3Nxc2bNw1GYTIyMhAQEFDiujUaDTQajVG6Wq0u9sc6p0CFnPzyBzDW9INfUpvUBUXrXpV24CReIiIrERwcjFOnTuHEiRPKX5cuXfDSSy/hxIkTePTRR6HVag2G8XNzc5GUlKQEJ507d4ZarTbIk5aWhtOnT5cawBDVNI7AEBFZCWdnZ/j7+xukOTk5wc3NTUmPiIhAdHQ0/Pz84Ofnh+joaDg6OmLkyJEAABcXF4wdOxaTJ0+Gm5sbXF1dMWXKFLRr1w59+/at8ToRlYQBDBFRHTJ16lRkZ2djwoQJuHnzJrp3746EhAQ4OzsreRYtWgRbW1sMHz4c2dnZCA4ORlxcHGxsbMxYciJDDGCIiKzY/v37DV6rVCpERUUhKiqqxM/Y29tjyZIlWLJkSfUWjqgKOAeGiIiILA4DGCIiIrI4DGCI8PAmXF27doWzszM8PDzwzDPPKJec6vEheEREtQcDGCIASUlJCA8Px5EjR5CYmIi8vDyEhITg3r17Sh4+BI+IqPbgJF4iALt27TJ4HRsbCw8PD6SmpqJ3795GD8EDgNWrV8PT0xPx8fEICwtTHoK3Zs0a5XLTtWvXwsfHB3v27CnxGTJERFRxDGCIinH79m0AgKurK4DqewheeR+ABwAam9Iffqd/OF7hh+RZ8kPjrO3Bd6asj7W0CVFVVCmAiYmJwYYNG/DTTz/BwcEBAQEBmDdvHlq1aqXkERHMnj0bK1asUO458NFHH6Ft27ZKnpycHEyZMgWff/65cs+BZcuWoUmTJlUpHlGliAgiIyPxxBNPKDf/qq6H4FXkAXjzu5Wv/IUfkmcND8CztgffmaI+VXkAHpG1qFIAo5830LVrV+Tl5WHGjBkICQnB2bNn4eTkBODPeQNxcXFo2bIl5syZg379+uHcuXPKjZMiIiKwdetWrFu3Dm5ubpg8eTIGDRqE1NRU3jiJatzEiRNx8uRJHDp0yOg9Uz8Er7wPwAMA/6jdpa5HU0/wXpcCg4fkWfID8KztwXemrE9VHoBHZC2qFMBY67yB5tO2Vyj/xbkDq6kkVNMmTZqELVu24MCBAwYjgFqtFoDpH4JXkQfglffBd4UfkmcNP/zW9uA7U9THmtqDqLJMOgemNswbKPwvUPa8AVOozvPR1jYPQM8c9SptXSKCSZMmYePGjdi/fz98fX0N3vf19VUegtepUycAfz4Eb968eQAMH4I3fPhwAH8+BG/+/PnVVCsiorrJZAFMbZg3sG/fPjg6OhqcYy7vvIGqqIl5BtY2D0CvJutV2ryB8PBwxMfHY/PmzXB2dlb6nouLCxwcHKBSqfgQPCKiWsRkAUxtmDfQp08fHD161OAcc1nzBkyhOucZWNs8AD1z1Ku0eQPLly8HAAQFBRmkx8bGYsyYMQD4EDwiotrEJAFMbZo3oP9X///yzhuoipr4Aba2eQB6NVmv0tYjUvapRj4Ej4io9qjSnXhFBBMnTsSGDRuwd+/eUucN6OnnDeiDk8LzBvT08wZKCmCIiIiobqvSCAznDRAREZE5VCmA4bwBIiIiMocqBTCcN0BERETmwKdRExERkcVhAENEREQWh0+jJiIiogqp6CN3NDZi8hvLMoAhsmJ8rhcRWSueQiIiIiKLwwCGiIiILA4DGCIiIrI4DGCIiIjI4jCAISIiIovDAIaIiIgsDgMYIiIisjgMYIiIrEhMTAy6du0KZ2dneHh44JlnnsG5c+cM8ogIoqKi4O3tDQcHBwQFBeHMmTMGeXJycjBp0iS4u7vDyckJQ4YMwdWrV2uyKkSl4o3sTKCiNwsDeMMwIqoeSUlJCA8PR9euXZGXl4cZM2YgJCQEZ8+ehZOTEwBg/vz5WLhwIeLi4tCyZUvMmTMH/fr1w7lz5+Ds7AwAiIiIwNatW7Fu3Tq4ublh8uTJGDRoEFJTU2FjY2POKhIBYABDRGRVdu3aZfA6NjYWHh4eSE1NRe/evSEiWLx4MWbMmIGhQ4cCAFavXg1PT0/Ex8cjLCwMt2/fxsqVK7FmzRr07dsXALB27Vr4+Phgz5496N+/f43Xi6goBjBERFbs9u3bAABXV1cAwIULF5Ceno6QkBAlj0ajQWBgIJKTkxEWFobU1FTodDqDPN7e3vD390dycnKxAUxOTg5ycnKU13fu3AEA6HQ66HQ6JV3/f009qVA9Ci/DUunrYA110dhUbPvpt3fRulelLRjAEBFZKRFBZGQknnjiCfj7+wMA0tPTAQCenp4GeT09PXHp0iUlj52dHRo1amSUR//5omJiYjB79myj9ISEBDg6Ohqlv9eloEJ12bFjR4Xy12aJiYnmLkKVVfbBjEXrfv/+/UqXgQEMEZGVmjhxIk6ePIlDhw4ZvadSqQxei4hRWlGl5Zk+fToiIyOV13fu3IGPjw9CQkLQoEEDJV2n0yExMRH/OlYPOQWlr6+w01GWf9pKX/d+/fpBrVabuzhV4h+1u0L5NfUE73UpMKq7fqSuMhjAEBFZoUmTJmHLli04cOAAmjRpoqRrtVoAD0dZvLy8lPSMjAxlVEar1SI3Nxc3b940GIXJyMhAQEBAsevTaDTQaDRG6Wq1utgf65wCFXLyyx/AWPoPfmEltYklqci2K6xo3avSDryMmojIiogIJk6ciA0bNmDv3r3w9fU1eN/X1xdardZgKD83NxdJSUlKcNK5c2eo1WqDPGlpaTh9+nSJAQxRTeMIDBGRFQkPD0d8fDw2b94MZ2dnZc6Ki4sLHBwcoFKpEBERgejoaPj5+cHPzw/R0dFwdHTEyJEjlbxjx47F5MmT4ebmBldXV0yZMgXt2rVTrkoiMjcGMEREVmT58uUAgKCgIIP02NhYjBkzBgAwdepUZGdnY8KECbh58ya6d++OhIQE5R4wALBo0SLY2tpi+PDhyM7ORnBwMOLi4ngPGKo1GMAQEVkRkbIvb1WpVIiKikJUVFSJeezt7bFkyRIsWbLEhKUjMh3OgSEiIiKLwwCGiIiILA5PIRGRgs/1IiJLwREYIiIisjgcgSGiKqnoqA1HbIjIFDgCQ0RERBaHAQwRERFZHAYwREREZHEYwBAREZHFYQBDREREFocBDBEREVkcBjBERERkcRjAEBERkcVhAENEREQWh3fiNZPy3r1UYyOY362aC0NERGRhGMAQUY2qaPDuH7Ub5/49qJpLRUSWhqeQiIiIyOIwgCEiIiKLwwCGiIiILA4DGCIiIrI4DGCIiIjI4vAqJCKq9cp75ZLexbkDq6kkRFRbcASGiIiILA4DGCIiIrI4PIVERFanoqecAJ52IrI0DGAshH/UbuTkqyr0Ge6QiYjIWvEUEhEREVkcjsAQEYFXOhFZmloTwCxbtgzvv/8+0tLS0LZtWyxevBi9evUyd7EsGnfI5sG+TNaCfZlqs1pxCumLL75AREQEZsyYgePHj6NXr14IDQ3F5cuXzV00ogphXyZrwb5MtV2tCGAWLlyIsWPHYty4cWjTpg0WL14MHx8fLF++3NxFI6oQ9mWyFuzLVNuZ/RRSbm4uUlNTMW3aNIP0kJAQJCcnF/uZnJwc5OTkKK9v374NAPjjjz9w//59ZGZmQq1WAwBs8+5VU8lrhm2B4P79Atjq6iG/oGJXIVXUX6Z8Wa3LB4Cj04MBADqdzmhblaR7zDeVWkdRWVlZAAARqdDyysvUfVmn0xnkLasv12RfqQm1vT4V/b5o6gn+2amgXH2+LJbcl/Xf/Ypu18zMzIpUoVaqyH6vtqvob6v++1y07lXpy2YPYH7//Xfk5+fD09PTIN3T0xPp6enFfiYmJgazZ882Sm/ZsmW1lNHcRpq7ACbkvsD868jKyoKLi4vJ12vKvuzr61upMlhTXwFYn7JYc18uqib2HVS9Suv/lenLZg9g9FQqw0hcRIzS9KZPn47IyEjldUFBAf744w+o1Wo0bdoUV65cQYMGDaq1vDXlzp078PHxsao6Aeapl4ggKysL3t7e1boeU/RlNze3Ej9TEmvrK6xPySy5L1vbdq0I1t247lXpy2YPYNzd3WFjY2MU1WdkZBhF/3oajQYajcYgrWHDhrhz5w4AoEGDBlbXOayxTkDN16s6jlb1TNmXq8La+grrUzxL78vWtl0rgnU3rHtl+7LZJ/Ha2dmhc+fOSExMNEhPTExEQECAmUpFVHHsy2Qt2JfJEph9BAYAIiMj8fLLL6NLly7o2bMnVqxYgcuXL2P8+PHmLhpRhbAvk7VgX6barlYEMCNGjEBmZibeffddpKWlwd/fHzt27ECzZs0qtByNRoNZs2YZDWNaMmusE2C99TJVX64Ma2tT1se8qqsvW1o7mBLrbtq6q6S6rsMjIiIiqiZmnwNDREREVFEMYIiIiMjiMIAhIiIii8MAhoiIiCwOAxgiIiKyOFYTwCxbtgy+vr6wt7dH586dcfDgQXMXqcoOHDiAwYMHw9vbGyqVCps2bTJ3kaosJiYGXbt2hbOzMzw8PPDMM8/g3Llz5i6WxShP+40ZMwYqlcrgr0ePHmYqcemioqKMyqrVapX3RQRRUVHw9vaGg4MDgoKCcObMGTOWuHTNmzc3qo9KpUJ4eDgAy9o2VVHR/XFSUhI6d+4Me3t7PProo/j4449rqKSmV5G679+/v9j+8tNPP9VgiauuMr9VptjmVhHAfPHFF4iIiMCMGTNw/Phx9OrVC6Ghobh8+bK5i1Yl9+7dQ4cOHbB06VJzF8VkkpKSEB4ejiNHjiAxMRF5eXkICQnBvXuW/dTwmlLe9nvqqaeQlpam/O3YscNMJS5b27ZtDcp66tQp5b358+dj4cKFWLp0KVJSUqDVatGvXz/lCba1TUpKikFd9Heyff7555U8lrRtKqOi++MLFy5gwIAB6NWrF44fP45//OMfePPNN7F+/foaLnnVVfa36Ny5cwZ9ws/Pr4ZKbBoV/a0y2TYXK9CtWzcZP368QVrr1q1l2rRpZiqR6QGQjRs3mrsYJpeRkSEAJCkpydxFsUjFtd/o0aPl6aefNl+hKmDWrFnSoUOHYt8rKCgQrVYrc+fOVdIePHggLi4u8vHHH9dQCavmrbfekhYtWkhBQYGIWNa2qayK7o+nTp0qrVu3NkgLCwuTHj16VFsZq0tF675v3z4BIDdv3qyB0tWM8vxWmWqbW/wITG5uLlJTUxESEmKQHhISguTkZDOVisrr9u3bAABXV1czl8QyldR++/fvh4eHB1q2bInXX38dGRkZ5iheufzyyy/w9vaGr68vXnjhBfz6668AHh6lpaenG3y3NRoNAgMDLeK7nZubi7Vr1+K1114zeBqzJW2biqrM/vjw4cNG+fv3749jx45Bp9NVW1lNrSq/RZ06dYKXlxeCg4Oxb9++6ixmrWCqbW7xAczvv/+O/Px8oyekenp6Gj1JlWoXEUFkZCSeeOIJ+Pv7m7s4Fqek9gsNDcX//vc/7N27FwsWLEBKSgqefPJJ5OTkmLG0xevevTs+++wz7N69G59++inS09MREBCAzMxM5ftrqd/tTZs24datWxgzZoySZknbpjIqsz9OT08vNn9eXh5+//33aiurqVWm7l5eXlixYgXWr1+PDRs2oFWrVggODsaBAwdqoshmY6ptXiuehWQKhY9wgIc796JpVLtMnDgRJ0+exKFDh8xdFItUUvuNGDFC+b+/vz+6dOmCZs2aYfv27Rg6dGhNF7NUoaGhyv/btWuHnj17okWLFli9erUyudVSv9srV65EaGgovL29lTRL2jZVUdFtVlz+4tItQUXq3qpVK7Rq1Up53bNnT1y5cgX/+c9/0Lt372otp7mZYptb/AiMu7s7bGxsjCLcjIwMowiPao9JkyZhy5Yt2LdvH5o0aWLu4licirSfl5cXmjVrhl9++aWGSld5Tk5OaNeuHX755RflaiRL/G5funQJe/bswbhx40rNZ0nbpjwqsz/WarXF5re1tYWbm1u1ldXUTPVb1KNHD6vpDyUx1Ta3+ADGzs4OnTt3Vmb76yUmJiIgIMBMpaKSiAgmTpyIDRs2YO/evfD19TV3kSxKZdovMzMTV65cgZeXVw2UsGpycnLw448/wsvLC76+vtBqtQbf7dzcXCQlJdX673ZsbCw8PDwwcODAUvNZ0rYpj8rsj3v27GmUPyEhAV26dIFara62spqaqX6Ljh8/bjX9oSQm2+YVmvJbS61bt07UarWsXLlSzp49KxEREeLk5CQXL140d9GqJCsrS44fPy7Hjx8XALJw4UI5fvy4XLp0ydxFq7Q33nhDXFxcZP/+/ZKWlqb83b9/39xFswhltV9WVpZMnjxZkpOT5cKFC7Jv3z7p2bOnPPLII3Lnzh0zl97Y5MmTZf/+/fLrr7/KkSNHZNCgQeLs7Kx8d+fOnSsuLi6yYcMGOXXqlLz44ovi5eVVK+uil5+fL02bNpV33nnHIN3Stk1llbU/njZtmrz88stK/l9//VUcHR3l7bfflrNnz8rKlStFrVbL119/ba4qVFpF675o0SLZuHGj/Pzzz3L69GmZNm2aAJD169ebqwqVUtZvVXVtc6sIYEREPvroI2nWrJnY2dnJX//6V6u4LFd/iV3Rv9GjR5u7aJVWXH0ASGxsrLmLZhHKar/79+9LSEiING7cWNRqtTRt2lRGjx4tly9fNm/BSzBixAjx8vIStVot3t7eMnToUDlz5ozyfkFBgcyaNUu0Wq1oNBrp3bu3nDp1yowlLtvu3bsFgJw7d84g3dK2TVWUtj8ePXq0BAYGGuTfv3+/dOrUSezs7KR58+ayfPnyGi6x6VSk7vPmzZMWLVqIvb29NGrUSJ544gnZvn27GUpdNWX9VlXXNleJ/P+ZM0REREQWwuLnwBAREVHdwwCGiIiILA4DGCIiIrI4DGCIiIjI4jCAISIiIovDAIaIiIgsDgMYIiIisjgMYIiIiMjiMIAhIiIii8MAhoiIiCwOAxgiIiKyOP8Pk4Z4ThKhxokAAAAASUVORK5CYII=",
      "text/plain": [
       "<Figure size 640x480 with 9 Axes>"
      ]
     },
     "metadata": {},
     "output_type": "display_data"
    }
   ],
   "source": [
    "df.hist()"
   ]
  },
  {
   "cell_type": "markdown",
   "id": "c9e1bad5",
   "metadata": {},
   "source": [
    "#### 3.Normalize the dataset using Min-Max scalar."
   ]
  },
  {
   "cell_type": "code",
   "execution_count": 10,
   "id": "ac69f242",
   "metadata": {},
   "outputs": [],
   "source": [
    "from sklearn.preprocessing import MinMaxScaler"
   ]
  },
  {
   "cell_type": "code",
   "execution_count": 11,
   "id": "d24db645",
   "metadata": {},
   "outputs": [],
   "source": [
    "obj = MinMaxScaler()"
   ]
  },
  {
   "cell_type": "code",
   "execution_count": 34,
   "id": "cc9b0ee6",
   "metadata": {
    "collapsed": true
   },
   "outputs": [
    {
     "data": {
      "text/html": [
       "<style>#sk-container-id-3 {color: black;}#sk-container-id-3 pre{padding: 0;}#sk-container-id-3 div.sk-toggleable {background-color: white;}#sk-container-id-3 label.sk-toggleable__label {cursor: pointer;display: block;width: 100%;margin-bottom: 0;padding: 0.3em;box-sizing: border-box;text-align: center;}#sk-container-id-3 label.sk-toggleable__label-arrow:before {content: \"▸\";float: left;margin-right: 0.25em;color: #696969;}#sk-container-id-3 label.sk-toggleable__label-arrow:hover:before {color: black;}#sk-container-id-3 div.sk-estimator:hover label.sk-toggleable__label-arrow:before {color: black;}#sk-container-id-3 div.sk-toggleable__content {max-height: 0;max-width: 0;overflow: hidden;text-align: left;background-color: #f0f8ff;}#sk-container-id-3 div.sk-toggleable__content pre {margin: 0.2em;color: black;border-radius: 0.25em;background-color: #f0f8ff;}#sk-container-id-3 input.sk-toggleable__control:checked~div.sk-toggleable__content {max-height: 200px;max-width: 100%;overflow: auto;}#sk-container-id-3 input.sk-toggleable__control:checked~label.sk-toggleable__label-arrow:before {content: \"▾\";}#sk-container-id-3 div.sk-estimator input.sk-toggleable__control:checked~label.sk-toggleable__label {background-color: #d4ebff;}#sk-container-id-3 div.sk-label input.sk-toggleable__control:checked~label.sk-toggleable__label {background-color: #d4ebff;}#sk-container-id-3 input.sk-hidden--visually {border: 0;clip: rect(1px 1px 1px 1px);clip: rect(1px, 1px, 1px, 1px);height: 1px;margin: -1px;overflow: hidden;padding: 0;position: absolute;width: 1px;}#sk-container-id-3 div.sk-estimator {font-family: monospace;background-color: #f0f8ff;border: 1px dotted black;border-radius: 0.25em;box-sizing: border-box;margin-bottom: 0.5em;}#sk-container-id-3 div.sk-estimator:hover {background-color: #d4ebff;}#sk-container-id-3 div.sk-parallel-item::after {content: \"\";width: 100%;border-bottom: 1px solid gray;flex-grow: 1;}#sk-container-id-3 div.sk-label:hover label.sk-toggleable__label {background-color: #d4ebff;}#sk-container-id-3 div.sk-serial::before {content: \"\";position: absolute;border-left: 1px solid gray;box-sizing: border-box;top: 0;bottom: 0;left: 50%;z-index: 0;}#sk-container-id-3 div.sk-serial {display: flex;flex-direction: column;align-items: center;background-color: white;padding-right: 0.2em;padding-left: 0.2em;position: relative;}#sk-container-id-3 div.sk-item {position: relative;z-index: 1;}#sk-container-id-3 div.sk-parallel {display: flex;align-items: stretch;justify-content: center;background-color: white;position: relative;}#sk-container-id-3 div.sk-item::before, #sk-container-id-3 div.sk-parallel-item::before {content: \"\";position: absolute;border-left: 1px solid gray;box-sizing: border-box;top: 0;bottom: 0;left: 50%;z-index: -1;}#sk-container-id-3 div.sk-parallel-item {display: flex;flex-direction: column;z-index: 1;position: relative;background-color: white;}#sk-container-id-3 div.sk-parallel-item:first-child::after {align-self: flex-end;width: 50%;}#sk-container-id-3 div.sk-parallel-item:last-child::after {align-self: flex-start;width: 50%;}#sk-container-id-3 div.sk-parallel-item:only-child::after {width: 0;}#sk-container-id-3 div.sk-dashed-wrapped {border: 1px dashed gray;margin: 0 0.4em 0.5em 0.4em;box-sizing: border-box;padding-bottom: 0.4em;background-color: white;}#sk-container-id-3 div.sk-label label {font-family: monospace;font-weight: bold;display: inline-block;line-height: 1.2em;}#sk-container-id-3 div.sk-label-container {text-align: center;}#sk-container-id-3 div.sk-container {/* jupyter's `normalize.less` sets `[hidden] { display: none; }` but bootstrap.min.css set `[hidden] { display: none !important; }` so we also need the `!important` here to be able to override the default hidden behavior on the sphinx rendered scikit-learn.org. See: https://github.com/scikit-learn/scikit-learn/issues/21755 */display: inline-block !important;position: relative;}#sk-container-id-3 div.sk-text-repr-fallback {display: none;}</style><div id=\"sk-container-id-3\" class=\"sk-top-container\"><div class=\"sk-text-repr-fallback\"><pre>MinMaxScaler()</pre><b>In a Jupyter environment, please rerun this cell to show the HTML representation or trust the notebook. <br />On GitHub, the HTML representation is unable to render, please try loading this page with nbviewer.org.</b></div><div class=\"sk-container\" hidden><div class=\"sk-item\"><div class=\"sk-estimator sk-toggleable\"><input class=\"sk-toggleable__control sk-hidden--visually\" id=\"sk-estimator-id-3\" type=\"checkbox\" checked><label for=\"sk-estimator-id-3\" class=\"sk-toggleable__label sk-toggleable__label-arrow\">MinMaxScaler</label><div class=\"sk-toggleable__content\"><pre>MinMaxScaler()</pre></div></div></div></div></div>"
      ],
      "text/plain": [
       "MinMaxScaler()"
      ]
     },
     "execution_count": 34,
     "metadata": {},
     "output_type": "execute_result"
    }
   ],
   "source": [
    "obj.fit(df)"
   ]
  },
  {
   "cell_type": "code",
   "execution_count": 13,
   "id": "5b05d14e",
   "metadata": {},
   "outputs": [
    {
     "data": {
      "text/plain": [
       "array([[0.35294118, 0.74371859, 0.59016393, ..., 0.23441503, 0.48333333,\n",
       "        1.        ],\n",
       "       [0.05882353, 0.42713568, 0.54098361, ..., 0.11656704, 0.16666667,\n",
       "        0.        ],\n",
       "       [0.47058824, 0.91959799, 0.52459016, ..., 0.25362938, 0.18333333,\n",
       "        1.        ],\n",
       "       ...,\n",
       "       [0.29411765, 0.6080402 , 0.59016393, ..., 0.07130658, 0.15      ,\n",
       "        0.        ],\n",
       "       [0.05882353, 0.63316583, 0.49180328, ..., 0.11571307, 0.43333333,\n",
       "        1.        ],\n",
       "       [0.05882353, 0.46733668, 0.57377049, ..., 0.10119556, 0.03333333,\n",
       "        0.        ]])"
      ]
     },
     "execution_count": 13,
     "metadata": {},
     "output_type": "execute_result"
    }
   ],
   "source": [
    "obj.transform(df)  "
   ]
  },
  {
   "cell_type": "markdown",
   "id": "d488f63a",
   "metadata": {},
   "source": [
    "#### 4.Divide the dataset into training (80%) and test (20%) dataset."
   ]
  },
  {
   "cell_type": "code",
   "execution_count": 14,
   "id": "fa035c8d",
   "metadata": {},
   "outputs": [],
   "source": [
    "from sklearn.model_selection import train_test_split"
   ]
  },
  {
   "cell_type": "code",
   "execution_count": 15,
   "id": "a7e73e65",
   "metadata": {},
   "outputs": [
    {
     "data": {
      "text/html": [
       "<div>\n",
       "<style scoped>\n",
       "    .dataframe tbody tr th:only-of-type {\n",
       "        vertical-align: middle;\n",
       "    }\n",
       "\n",
       "    .dataframe tbody tr th {\n",
       "        vertical-align: top;\n",
       "    }\n",
       "\n",
       "    .dataframe thead th {\n",
       "        text-align: right;\n",
       "    }\n",
       "</style>\n",
       "<table border=\"1\" class=\"dataframe\">\n",
       "  <thead>\n",
       "    <tr style=\"text-align: right;\">\n",
       "      <th></th>\n",
       "      <th>Pregnancies</th>\n",
       "      <th>Glucose</th>\n",
       "      <th>BloodPressure</th>\n",
       "      <th>SkinThickness</th>\n",
       "      <th>Insulin</th>\n",
       "      <th>BMI</th>\n",
       "      <th>DiabetesPedigreeFunction</th>\n",
       "      <th>Age</th>\n",
       "      <th>Outcome</th>\n",
       "    </tr>\n",
       "  </thead>\n",
       "  <tbody>\n",
       "    <tr>\n",
       "      <th>0</th>\n",
       "      <td>6</td>\n",
       "      <td>148.0</td>\n",
       "      <td>72.0</td>\n",
       "      <td>35.00000</td>\n",
       "      <td>155.548223</td>\n",
       "      <td>33.6</td>\n",
       "      <td>0.627</td>\n",
       "      <td>50</td>\n",
       "      <td>1</td>\n",
       "    </tr>\n",
       "    <tr>\n",
       "      <th>1</th>\n",
       "      <td>1</td>\n",
       "      <td>85.0</td>\n",
       "      <td>66.0</td>\n",
       "      <td>29.00000</td>\n",
       "      <td>155.548223</td>\n",
       "      <td>26.6</td>\n",
       "      <td>0.351</td>\n",
       "      <td>31</td>\n",
       "      <td>0</td>\n",
       "    </tr>\n",
       "    <tr>\n",
       "      <th>2</th>\n",
       "      <td>8</td>\n",
       "      <td>183.0</td>\n",
       "      <td>64.0</td>\n",
       "      <td>29.15342</td>\n",
       "      <td>155.548223</td>\n",
       "      <td>23.3</td>\n",
       "      <td>0.672</td>\n",
       "      <td>32</td>\n",
       "      <td>1</td>\n",
       "    </tr>\n",
       "    <tr>\n",
       "      <th>3</th>\n",
       "      <td>1</td>\n",
       "      <td>89.0</td>\n",
       "      <td>66.0</td>\n",
       "      <td>23.00000</td>\n",
       "      <td>94.000000</td>\n",
       "      <td>28.1</td>\n",
       "      <td>0.167</td>\n",
       "      <td>21</td>\n",
       "      <td>0</td>\n",
       "    </tr>\n",
       "    <tr>\n",
       "      <th>4</th>\n",
       "      <td>0</td>\n",
       "      <td>137.0</td>\n",
       "      <td>40.0</td>\n",
       "      <td>35.00000</td>\n",
       "      <td>168.000000</td>\n",
       "      <td>43.1</td>\n",
       "      <td>2.288</td>\n",
       "      <td>33</td>\n",
       "      <td>1</td>\n",
       "    </tr>\n",
       "    <tr>\n",
       "      <th>...</th>\n",
       "      <td>...</td>\n",
       "      <td>...</td>\n",
       "      <td>...</td>\n",
       "      <td>...</td>\n",
       "      <td>...</td>\n",
       "      <td>...</td>\n",
       "      <td>...</td>\n",
       "      <td>...</td>\n",
       "      <td>...</td>\n",
       "    </tr>\n",
       "    <tr>\n",
       "      <th>763</th>\n",
       "      <td>10</td>\n",
       "      <td>101.0</td>\n",
       "      <td>76.0</td>\n",
       "      <td>48.00000</td>\n",
       "      <td>180.000000</td>\n",
       "      <td>32.9</td>\n",
       "      <td>0.171</td>\n",
       "      <td>63</td>\n",
       "      <td>0</td>\n",
       "    </tr>\n",
       "    <tr>\n",
       "      <th>764</th>\n",
       "      <td>2</td>\n",
       "      <td>122.0</td>\n",
       "      <td>70.0</td>\n",
       "      <td>27.00000</td>\n",
       "      <td>155.548223</td>\n",
       "      <td>36.8</td>\n",
       "      <td>0.340</td>\n",
       "      <td>27</td>\n",
       "      <td>0</td>\n",
       "    </tr>\n",
       "    <tr>\n",
       "      <th>765</th>\n",
       "      <td>5</td>\n",
       "      <td>121.0</td>\n",
       "      <td>72.0</td>\n",
       "      <td>23.00000</td>\n",
       "      <td>112.000000</td>\n",
       "      <td>26.2</td>\n",
       "      <td>0.245</td>\n",
       "      <td>30</td>\n",
       "      <td>0</td>\n",
       "    </tr>\n",
       "    <tr>\n",
       "      <th>766</th>\n",
       "      <td>1</td>\n",
       "      <td>126.0</td>\n",
       "      <td>60.0</td>\n",
       "      <td>29.15342</td>\n",
       "      <td>155.548223</td>\n",
       "      <td>30.1</td>\n",
       "      <td>0.349</td>\n",
       "      <td>47</td>\n",
       "      <td>1</td>\n",
       "    </tr>\n",
       "    <tr>\n",
       "      <th>767</th>\n",
       "      <td>1</td>\n",
       "      <td>93.0</td>\n",
       "      <td>70.0</td>\n",
       "      <td>31.00000</td>\n",
       "      <td>155.548223</td>\n",
       "      <td>30.4</td>\n",
       "      <td>0.315</td>\n",
       "      <td>23</td>\n",
       "      <td>0</td>\n",
       "    </tr>\n",
       "  </tbody>\n",
       "</table>\n",
       "<p>768 rows × 9 columns</p>\n",
       "</div>"
      ],
      "text/plain": [
       "     Pregnancies  Glucose  BloodPressure  SkinThickness     Insulin   BMI  \\\n",
       "0              6    148.0           72.0       35.00000  155.548223  33.6   \n",
       "1              1     85.0           66.0       29.00000  155.548223  26.6   \n",
       "2              8    183.0           64.0       29.15342  155.548223  23.3   \n",
       "3              1     89.0           66.0       23.00000   94.000000  28.1   \n",
       "4              0    137.0           40.0       35.00000  168.000000  43.1   \n",
       "..           ...      ...            ...            ...         ...   ...   \n",
       "763           10    101.0           76.0       48.00000  180.000000  32.9   \n",
       "764            2    122.0           70.0       27.00000  155.548223  36.8   \n",
       "765            5    121.0           72.0       23.00000  112.000000  26.2   \n",
       "766            1    126.0           60.0       29.15342  155.548223  30.1   \n",
       "767            1     93.0           70.0       31.00000  155.548223  30.4   \n",
       "\n",
       "     DiabetesPedigreeFunction  Age  Outcome  \n",
       "0                       0.627   50        1  \n",
       "1                       0.351   31        0  \n",
       "2                       0.672   32        1  \n",
       "3                       0.167   21        0  \n",
       "4                       2.288   33        1  \n",
       "..                        ...  ...      ...  \n",
       "763                     0.171   63        0  \n",
       "764                     0.340   27        0  \n",
       "765                     0.245   30        0  \n",
       "766                     0.349   47        1  \n",
       "767                     0.315   23        0  \n",
       "\n",
       "[768 rows x 9 columns]"
      ]
     },
     "execution_count": 15,
     "metadata": {},
     "output_type": "execute_result"
    }
   ],
   "source": [
    "#Cleaning data , removing null values to its mean value \n",
    "df[\"Insulin\"] = df[\"Insulin\"].replace(0, df[df[\"Insulin\"] != 0][\"Insulin\"].mean())\n",
    "df[\"SkinThickness\"] = df[\"SkinThickness\"].replace(0, df[df[\"SkinThickness\"] != 0][\"SkinThickness\"].mean())\n",
    "df[\"BMI\"] = df[\"BMI\"].replace(0, df[df[\"BMI\"] != 0][\"BMI\"].mean())\n",
    "df[\"BloodPressure\"] = df[\"BloodPressure\"].replace(0, df[df[\"BloodPressure\"] != 0][\"BloodPressure\"].mean())\n",
    "df[\"Glucose\"] = df[\"Glucose\"].replace(0, df[df[\"Glucose\"] != 0][\"Glucose\"].mean())\n",
    "df"
   ]
  },
  {
   "cell_type": "code",
   "execution_count": 16,
   "id": "9deb7329",
   "metadata": {},
   "outputs": [],
   "source": [
    "# X = df.drop(['Pregnancies','Glucose','BloodPressure','SkinThickness','Insulin','BMI','Outcome'],axis = 1) \n",
    "X = df.drop(['Outcome'],axis = 1)"
   ]
  },
  {
   "cell_type": "code",
   "execution_count": 17,
   "id": "9ab3cf6b",
   "metadata": {},
   "outputs": [],
   "source": [
    "y = df['Outcome']"
   ]
  },
  {
   "cell_type": "code",
   "execution_count": 18,
   "id": "6154ea99",
   "metadata": {},
   "outputs": [],
   "source": [
    "X_train, X_test, y_train, y_test = train_test_split(X, y, test_size=0.2, random_state=82)\n"
   ]
  },
  {
   "cell_type": "code",
   "execution_count": 19,
   "id": "7f45ee20",
   "metadata": {},
   "outputs": [],
   "source": [
    "# print(\"Shape of X_train:\",X_train.shape)\n",
    "# print(\"Shape of X_test:\",X_test.shape)\n",
    "# print(\"Shape of y_train:\",y_train.shape)\n",
    "# print(\"Shape of y_test:\",y_test.shape)"
   ]
  },
  {
   "cell_type": "markdown",
   "id": "96b3afd7",
   "metadata": {},
   "source": [
    "#### 5.Build a logistic regression model and fit the training data into the model."
   ]
  },
  {
   "cell_type": "code",
   "execution_count": 40,
   "id": "55af08ae",
   "metadata": {},
   "outputs": [],
   "source": [
    "from sklearn.linear_model import LogisticRegression\n",
    "from warnings import filterwarnings\n",
    "filterwarnings(\"ignore\")"
   ]
  },
  {
   "cell_type": "code",
   "execution_count": 41,
   "id": "5be5a4b3",
   "metadata": {},
   "outputs": [],
   "source": [
    "ld = LogisticRegression()"
   ]
  },
  {
   "cell_type": "code",
   "execution_count": 42,
   "id": "4646710d",
   "metadata": {},
   "outputs": [
    {
     "data": {
      "text/html": [
       "<style>#sk-container-id-4 {color: black;}#sk-container-id-4 pre{padding: 0;}#sk-container-id-4 div.sk-toggleable {background-color: white;}#sk-container-id-4 label.sk-toggleable__label {cursor: pointer;display: block;width: 100%;margin-bottom: 0;padding: 0.3em;box-sizing: border-box;text-align: center;}#sk-container-id-4 label.sk-toggleable__label-arrow:before {content: \"▸\";float: left;margin-right: 0.25em;color: #696969;}#sk-container-id-4 label.sk-toggleable__label-arrow:hover:before {color: black;}#sk-container-id-4 div.sk-estimator:hover label.sk-toggleable__label-arrow:before {color: black;}#sk-container-id-4 div.sk-toggleable__content {max-height: 0;max-width: 0;overflow: hidden;text-align: left;background-color: #f0f8ff;}#sk-container-id-4 div.sk-toggleable__content pre {margin: 0.2em;color: black;border-radius: 0.25em;background-color: #f0f8ff;}#sk-container-id-4 input.sk-toggleable__control:checked~div.sk-toggleable__content {max-height: 200px;max-width: 100%;overflow: auto;}#sk-container-id-4 input.sk-toggleable__control:checked~label.sk-toggleable__label-arrow:before {content: \"▾\";}#sk-container-id-4 div.sk-estimator input.sk-toggleable__control:checked~label.sk-toggleable__label {background-color: #d4ebff;}#sk-container-id-4 div.sk-label input.sk-toggleable__control:checked~label.sk-toggleable__label {background-color: #d4ebff;}#sk-container-id-4 input.sk-hidden--visually {border: 0;clip: rect(1px 1px 1px 1px);clip: rect(1px, 1px, 1px, 1px);height: 1px;margin: -1px;overflow: hidden;padding: 0;position: absolute;width: 1px;}#sk-container-id-4 div.sk-estimator {font-family: monospace;background-color: #f0f8ff;border: 1px dotted black;border-radius: 0.25em;box-sizing: border-box;margin-bottom: 0.5em;}#sk-container-id-4 div.sk-estimator:hover {background-color: #d4ebff;}#sk-container-id-4 div.sk-parallel-item::after {content: \"\";width: 100%;border-bottom: 1px solid gray;flex-grow: 1;}#sk-container-id-4 div.sk-label:hover label.sk-toggleable__label {background-color: #d4ebff;}#sk-container-id-4 div.sk-serial::before {content: \"\";position: absolute;border-left: 1px solid gray;box-sizing: border-box;top: 0;bottom: 0;left: 50%;z-index: 0;}#sk-container-id-4 div.sk-serial {display: flex;flex-direction: column;align-items: center;background-color: white;padding-right: 0.2em;padding-left: 0.2em;position: relative;}#sk-container-id-4 div.sk-item {position: relative;z-index: 1;}#sk-container-id-4 div.sk-parallel {display: flex;align-items: stretch;justify-content: center;background-color: white;position: relative;}#sk-container-id-4 div.sk-item::before, #sk-container-id-4 div.sk-parallel-item::before {content: \"\";position: absolute;border-left: 1px solid gray;box-sizing: border-box;top: 0;bottom: 0;left: 50%;z-index: -1;}#sk-container-id-4 div.sk-parallel-item {display: flex;flex-direction: column;z-index: 1;position: relative;background-color: white;}#sk-container-id-4 div.sk-parallel-item:first-child::after {align-self: flex-end;width: 50%;}#sk-container-id-4 div.sk-parallel-item:last-child::after {align-self: flex-start;width: 50%;}#sk-container-id-4 div.sk-parallel-item:only-child::after {width: 0;}#sk-container-id-4 div.sk-dashed-wrapped {border: 1px dashed gray;margin: 0 0.4em 0.5em 0.4em;box-sizing: border-box;padding-bottom: 0.4em;background-color: white;}#sk-container-id-4 div.sk-label label {font-family: monospace;font-weight: bold;display: inline-block;line-height: 1.2em;}#sk-container-id-4 div.sk-label-container {text-align: center;}#sk-container-id-4 div.sk-container {/* jupyter's `normalize.less` sets `[hidden] { display: none; }` but bootstrap.min.css set `[hidden] { display: none !important; }` so we also need the `!important` here to be able to override the default hidden behavior on the sphinx rendered scikit-learn.org. See: https://github.com/scikit-learn/scikit-learn/issues/21755 */display: inline-block !important;position: relative;}#sk-container-id-4 div.sk-text-repr-fallback {display: none;}</style><div id=\"sk-container-id-4\" class=\"sk-top-container\"><div class=\"sk-text-repr-fallback\"><pre>LogisticRegression()</pre><b>In a Jupyter environment, please rerun this cell to show the HTML representation or trust the notebook. <br />On GitHub, the HTML representation is unable to render, please try loading this page with nbviewer.org.</b></div><div class=\"sk-container\" hidden><div class=\"sk-item\"><div class=\"sk-estimator sk-toggleable\"><input class=\"sk-toggleable__control sk-hidden--visually\" id=\"sk-estimator-id-4\" type=\"checkbox\" checked><label for=\"sk-estimator-id-4\" class=\"sk-toggleable__label sk-toggleable__label-arrow\">LogisticRegression</label><div class=\"sk-toggleable__content\"><pre>LogisticRegression()</pre></div></div></div></div></div>"
      ],
      "text/plain": [
       "LogisticRegression()"
      ]
     },
     "execution_count": 42,
     "metadata": {},
     "output_type": "execute_result"
    }
   ],
   "source": [
    "ld.fit(X_train,y_train)"
   ]
  },
  {
   "cell_type": "code",
   "execution_count": 23,
   "id": "1eff7c37",
   "metadata": {},
   "outputs": [],
   "source": [
    "predict = ld.predict(X_test)"
   ]
  },
  {
   "cell_type": "markdown",
   "id": "2e0da6fd",
   "metadata": {},
   "source": [
    "#### 6. Find the performance of the developed model using the test dataset"
   ]
  },
  {
   "cell_type": "code",
   "execution_count": 24,
   "id": "a6a3ffb5",
   "metadata": {},
   "outputs": [
    {
     "name": "stdout",
     "output_type": "stream",
     "text": [
      "[[100   7]\n",
      " [ 17  30]]\n"
     ]
    }
   ],
   "source": [
    "from sklearn.metrics import classification_report,confusion_matrix\n",
    "print(confusion_matrix(y_test,predict))"
   ]
  },
  {
   "cell_type": "code",
   "execution_count": 25,
   "id": "a9a62f68",
   "metadata": {},
   "outputs": [
    {
     "name": "stdout",
     "output_type": "stream",
     "text": [
      "              precision    recall  f1-score   support\n",
      "\n",
      "           0       0.85      0.93      0.89       107\n",
      "           1       0.81      0.64      0.71        47\n",
      "\n",
      "    accuracy                           0.84       154\n",
      "   macro avg       0.83      0.79      0.80       154\n",
      "weighted avg       0.84      0.84      0.84       154\n",
      "\n"
     ]
    }
   ],
   "source": [
    "print(classification_report(y_test,predict))"
   ]
  },
  {
   "cell_type": "code",
   "execution_count": 26,
   "id": "02d89a8d",
   "metadata": {},
   "outputs": [],
   "source": [
    "from sklearn.metrics import roc_auc_score"
   ]
  },
  {
   "cell_type": "code",
   "execution_count": 27,
   "id": "514b9682",
   "metadata": {},
   "outputs": [
    {
     "data": {
      "text/plain": [
       "0.7864386557963811"
      ]
     },
     "execution_count": 27,
     "metadata": {},
     "output_type": "execute_result"
    }
   ],
   "source": [
    "auc_value = roc_auc_score(y_test, predict)\n",
    "auc_value"
   ]
  },
  {
   "cell_type": "markdown",
   "id": "6c393ad2",
   "metadata": {},
   "source": [
    "#### Accuracy %"
   ]
  },
  {
   "cell_type": "code",
   "execution_count": 28,
   "id": "5f707964",
   "metadata": {},
   "outputs": [
    {
     "name": "stdout",
     "output_type": "stream",
     "text": [
      "Accuracy: 84.4155844155844 %\n"
     ]
    }
   ],
   "source": [
    "from sklearn.metrics import accuracy_score\n",
    "accuracy = accuracy_score(y_test, predict)\n",
    "print(\"Accuracy:\",accuracy*100,\"%\")"
   ]
  },
  {
   "cell_type": "markdown",
   "id": "f48807a1",
   "metadata": {},
   "source": [
    "#### 7.Use the above model to predict output (Diabetic or non-diabetic) for a new set of input : "
   ]
  },
  {
   "cell_type": "code",
   "execution_count": 43,
   "id": "a6e32eb8",
   "metadata": {},
   "outputs": [
    {
     "name": "stdout",
     "output_type": "stream",
     "text": [
      "Diabetes Detected!\n"
     ]
    }
   ],
   "source": [
    "#Testing with new Values.\n",
    "my_prediction = ld.predict([[1,119,86,39,220,45.6,0.808,29]])\n",
    "if(my_prediction[0] == 1):\n",
    "    print(\"Diabetes Detected!\")\n",
    "else:\n",
    "    print(\"Not Detected!\")"
   ]
  },
  {
   "cell_type": "code",
   "execution_count": 30,
   "id": "5444da88",
   "metadata": {},
   "outputs": [],
   "source": [
    "## testing purpose\n",
    "# high = []\n",
    "# for i in range(101):\n",
    "#     X_train, X_test, y_train, y_test = train_test_split(X, y, test_size=0.2, random_state=i)\n",
    "#     ld = LogisticRegression()\n",
    "#     ld.fit(X_train,y_train)\n",
    "#     predict = ld.predict(X_test)\n",
    "#     accuracy = accuracy_score(y_test, predict)\n",
    "#     print(\"Accuracy:\",accuracy*100,\"%\",\" for random value: \",i)\n",
    "#     high.append([accuracy*100,i])\n",
    "#     print(\"*******************\")\n",
    "# print(max(high))"
   ]
  },
  {
   "cell_type": "code",
   "execution_count": null,
   "id": "7c5f1369",
   "metadata": {},
   "outputs": [],
   "source": []
  }
 ],
 "metadata": {
  "kernelspec": {
   "display_name": "Python 3 (ipykernel)",
   "language": "python",
   "name": "python3"
  },
  "language_info": {
   "codemirror_mode": {
    "name": "ipython",
    "version": 3
   },
   "file_extension": ".py",
   "mimetype": "text/x-python",
   "name": "python",
   "nbconvert_exporter": "python",
   "pygments_lexer": "ipython3",
   "version": "3.11.5"
  }
 },
 "nbformat": 4,
 "nbformat_minor": 5
}
